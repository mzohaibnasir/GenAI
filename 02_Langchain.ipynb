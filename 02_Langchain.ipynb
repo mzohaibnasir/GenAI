{
  "nbformat": 4,
  "nbformat_minor": 0,
  "metadata": {
    "colab": {
      "provenance": [],
      "authorship_tag": "ABX9TyO2g3PqhN+v9D4QT6ZS017h",
      "include_colab_link": true
    },
    "kernelspec": {
      "name": "python3",
      "display_name": "Python 3"
    },
    "language_info": {
      "name": "python"
    }
  },
  "cells": [
    {
      "cell_type": "markdown",
      "metadata": {
        "id": "view-in-github",
        "colab_type": "text"
      },
      "source": [
        "<a href=\"https://colab.research.google.com/github/mzohaibnasir/GenAI/blob/main/02_Langchain.ipynb\" target=\"_parent\"><img src=\"https://colab.research.google.com/assets/colab-badge.svg\" alt=\"Open In Colab\"/></a>"
      ]
    },
    {
      "cell_type": "markdown",
      "source": [
        "# Langchain: a wrapper arounf openai"
      ],
      "metadata": {
        "id": "IT8aHyxK4zUR"
      }
    },
    {
      "cell_type": "code",
      "execution_count": 2,
      "metadata": {
        "id": "7A8hI7N42X7L"
      },
      "outputs": [],
      "source": [
        "from google.colab import userdata\n",
        "OPENAIAPIKEY = userdata.get('OPENAIAPIKEY')\n",
        "SERPAIAPIKEY = userdata.get('SERPAPI')"
      ]
    },
    {
      "cell_type": "code",
      "source": [
        "! pip install langchain\n",
        "! pip install openai\n",
        "! pip install google-search-results"
      ],
      "metadata": {
        "id": "1Nwi2OBc4etm",
        "colab": {
          "base_uri": "https://localhost:8080/"
        },
        "outputId": "405c8c23-7901-454e-f758-154171621362"
      },
      "execution_count": 16,
      "outputs": [
        {
          "output_type": "stream",
          "name": "stdout",
          "text": [
            "Requirement already satisfied: langchain in /usr/local/lib/python3.10/dist-packages (0.1.11)\n",
            "Requirement already satisfied: PyYAML>=5.3 in /usr/local/lib/python3.10/dist-packages (from langchain) (6.0.1)\n",
            "Requirement already satisfied: SQLAlchemy<3,>=1.4 in /usr/local/lib/python3.10/dist-packages (from langchain) (2.0.28)\n",
            "Requirement already satisfied: aiohttp<4.0.0,>=3.8.3 in /usr/local/lib/python3.10/dist-packages (from langchain) (3.9.3)\n",
            "Requirement already satisfied: async-timeout<5.0.0,>=4.0.0 in /usr/local/lib/python3.10/dist-packages (from langchain) (4.0.3)\n",
            "Requirement already satisfied: dataclasses-json<0.7,>=0.5.7 in /usr/local/lib/python3.10/dist-packages (from langchain) (0.6.4)\n",
            "Requirement already satisfied: jsonpatch<2.0,>=1.33 in /usr/local/lib/python3.10/dist-packages (from langchain) (1.33)\n",
            "Requirement already satisfied: langchain-community<0.1,>=0.0.25 in /usr/local/lib/python3.10/dist-packages (from langchain) (0.0.27)\n",
            "Requirement already satisfied: langchain-core<0.2,>=0.1.29 in /usr/local/lib/python3.10/dist-packages (from langchain) (0.1.30)\n",
            "Requirement already satisfied: langchain-text-splitters<0.1,>=0.0.1 in /usr/local/lib/python3.10/dist-packages (from langchain) (0.0.1)\n",
            "Requirement already satisfied: langsmith<0.2.0,>=0.1.17 in /usr/local/lib/python3.10/dist-packages (from langchain) (0.1.23)\n",
            "Requirement already satisfied: numpy<2,>=1 in /usr/local/lib/python3.10/dist-packages (from langchain) (1.25.2)\n",
            "Requirement already satisfied: pydantic<3,>=1 in /usr/local/lib/python3.10/dist-packages (from langchain) (2.6.3)\n",
            "Requirement already satisfied: requests<3,>=2 in /usr/local/lib/python3.10/dist-packages (from langchain) (2.31.0)\n",
            "Requirement already satisfied: tenacity<9.0.0,>=8.1.0 in /usr/local/lib/python3.10/dist-packages (from langchain) (8.2.3)\n",
            "Requirement already satisfied: aiosignal>=1.1.2 in /usr/local/lib/python3.10/dist-packages (from aiohttp<4.0.0,>=3.8.3->langchain) (1.3.1)\n",
            "Requirement already satisfied: attrs>=17.3.0 in /usr/local/lib/python3.10/dist-packages (from aiohttp<4.0.0,>=3.8.3->langchain) (23.2.0)\n",
            "Requirement already satisfied: frozenlist>=1.1.1 in /usr/local/lib/python3.10/dist-packages (from aiohttp<4.0.0,>=3.8.3->langchain) (1.4.1)\n",
            "Requirement already satisfied: multidict<7.0,>=4.5 in /usr/local/lib/python3.10/dist-packages (from aiohttp<4.0.0,>=3.8.3->langchain) (6.0.5)\n",
            "Requirement already satisfied: yarl<2.0,>=1.0 in /usr/local/lib/python3.10/dist-packages (from aiohttp<4.0.0,>=3.8.3->langchain) (1.9.4)\n",
            "Requirement already satisfied: marshmallow<4.0.0,>=3.18.0 in /usr/local/lib/python3.10/dist-packages (from dataclasses-json<0.7,>=0.5.7->langchain) (3.21.1)\n",
            "Requirement already satisfied: typing-inspect<1,>=0.4.0 in /usr/local/lib/python3.10/dist-packages (from dataclasses-json<0.7,>=0.5.7->langchain) (0.9.0)\n",
            "Requirement already satisfied: jsonpointer>=1.9 in /usr/local/lib/python3.10/dist-packages (from jsonpatch<2.0,>=1.33->langchain) (2.4)\n",
            "Requirement already satisfied: anyio<5,>=3 in /usr/local/lib/python3.10/dist-packages (from langchain-core<0.2,>=0.1.29->langchain) (3.7.1)\n",
            "Requirement already satisfied: packaging<24.0,>=23.2 in /usr/local/lib/python3.10/dist-packages (from langchain-core<0.2,>=0.1.29->langchain) (23.2)\n",
            "Requirement already satisfied: orjson<4.0.0,>=3.9.14 in /usr/local/lib/python3.10/dist-packages (from langsmith<0.2.0,>=0.1.17->langchain) (3.9.15)\n",
            "Requirement already satisfied: annotated-types>=0.4.0 in /usr/local/lib/python3.10/dist-packages (from pydantic<3,>=1->langchain) (0.6.0)\n",
            "Requirement already satisfied: pydantic-core==2.16.3 in /usr/local/lib/python3.10/dist-packages (from pydantic<3,>=1->langchain) (2.16.3)\n",
            "Requirement already satisfied: typing-extensions>=4.6.1 in /usr/local/lib/python3.10/dist-packages (from pydantic<3,>=1->langchain) (4.10.0)\n",
            "Requirement already satisfied: charset-normalizer<4,>=2 in /usr/local/lib/python3.10/dist-packages (from requests<3,>=2->langchain) (3.3.2)\n",
            "Requirement already satisfied: idna<4,>=2.5 in /usr/local/lib/python3.10/dist-packages (from requests<3,>=2->langchain) (3.6)\n",
            "Requirement already satisfied: urllib3<3,>=1.21.1 in /usr/local/lib/python3.10/dist-packages (from requests<3,>=2->langchain) (2.0.7)\n",
            "Requirement already satisfied: certifi>=2017.4.17 in /usr/local/lib/python3.10/dist-packages (from requests<3,>=2->langchain) (2024.2.2)\n",
            "Requirement already satisfied: greenlet!=0.4.17 in /usr/local/lib/python3.10/dist-packages (from SQLAlchemy<3,>=1.4->langchain) (3.0.3)\n",
            "Requirement already satisfied: sniffio>=1.1 in /usr/local/lib/python3.10/dist-packages (from anyio<5,>=3->langchain-core<0.2,>=0.1.29->langchain) (1.3.1)\n",
            "Requirement already satisfied: exceptiongroup in /usr/local/lib/python3.10/dist-packages (from anyio<5,>=3->langchain-core<0.2,>=0.1.29->langchain) (1.2.0)\n",
            "Requirement already satisfied: mypy-extensions>=0.3.0 in /usr/local/lib/python3.10/dist-packages (from typing-inspect<1,>=0.4.0->dataclasses-json<0.7,>=0.5.7->langchain) (1.0.0)\n",
            "Requirement already satisfied: openai in /usr/local/lib/python3.10/dist-packages (1.13.3)\n",
            "Requirement already satisfied: anyio<5,>=3.5.0 in /usr/local/lib/python3.10/dist-packages (from openai) (3.7.1)\n",
            "Requirement already satisfied: distro<2,>=1.7.0 in /usr/lib/python3/dist-packages (from openai) (1.7.0)\n",
            "Requirement already satisfied: httpx<1,>=0.23.0 in /usr/local/lib/python3.10/dist-packages (from openai) (0.27.0)\n",
            "Requirement already satisfied: pydantic<3,>=1.9.0 in /usr/local/lib/python3.10/dist-packages (from openai) (2.6.3)\n",
            "Requirement already satisfied: sniffio in /usr/local/lib/python3.10/dist-packages (from openai) (1.3.1)\n",
            "Requirement already satisfied: tqdm>4 in /usr/local/lib/python3.10/dist-packages (from openai) (4.66.2)\n",
            "Requirement already satisfied: typing-extensions<5,>=4.7 in /usr/local/lib/python3.10/dist-packages (from openai) (4.10.0)\n",
            "Requirement already satisfied: idna>=2.8 in /usr/local/lib/python3.10/dist-packages (from anyio<5,>=3.5.0->openai) (3.6)\n",
            "Requirement already satisfied: exceptiongroup in /usr/local/lib/python3.10/dist-packages (from anyio<5,>=3.5.0->openai) (1.2.0)\n",
            "Requirement already satisfied: certifi in /usr/local/lib/python3.10/dist-packages (from httpx<1,>=0.23.0->openai) (2024.2.2)\n",
            "Requirement already satisfied: httpcore==1.* in /usr/local/lib/python3.10/dist-packages (from httpx<1,>=0.23.0->openai) (1.0.4)\n",
            "Requirement already satisfied: h11<0.15,>=0.13 in /usr/local/lib/python3.10/dist-packages (from httpcore==1.*->httpx<1,>=0.23.0->openai) (0.14.0)\n",
            "Requirement already satisfied: annotated-types>=0.4.0 in /usr/local/lib/python3.10/dist-packages (from pydantic<3,>=1.9.0->openai) (0.6.0)\n",
            "Requirement already satisfied: pydantic-core==2.16.3 in /usr/local/lib/python3.10/dist-packages (from pydantic<3,>=1.9.0->openai) (2.16.3)\n",
            "Collecting google-search-results\n",
            "  Downloading google_search_results-2.4.2.tar.gz (18 kB)\n",
            "  Preparing metadata (setup.py) ... \u001b[?25l\u001b[?25hdone\n",
            "Requirement already satisfied: requests in /usr/local/lib/python3.10/dist-packages (from google-search-results) (2.31.0)\n",
            "Requirement already satisfied: charset-normalizer<4,>=2 in /usr/local/lib/python3.10/dist-packages (from requests->google-search-results) (3.3.2)\n",
            "Requirement already satisfied: idna<4,>=2.5 in /usr/local/lib/python3.10/dist-packages (from requests->google-search-results) (3.6)\n",
            "Requirement already satisfied: urllib3<3,>=1.21.1 in /usr/local/lib/python3.10/dist-packages (from requests->google-search-results) (2.0.7)\n",
            "Requirement already satisfied: certifi>=2017.4.17 in /usr/local/lib/python3.10/dist-packages (from requests->google-search-results) (2024.2.2)\n",
            "Building wheels for collected packages: google-search-results\n",
            "  Building wheel for google-search-results (setup.py) ... \u001b[?25l\u001b[?25hdone\n",
            "  Created wheel for google-search-results: filename=google_search_results-2.4.2-py3-none-any.whl size=32003 sha256=306ad8e7fe7d1f3e0a48986e01117b3d11d8d9abdce3cadd0b2392700f289889\n",
            "  Stored in directory: /root/.cache/pip/wheels/d3/b2/c3/03302d12bb44a2cdff3c9371f31b72c0c4e84b8d2285eeac53\n",
            "Successfully built google-search-results\n",
            "Installing collected packages: google-search-results\n",
            "Successfully installed google-search-results-2.4.2\n"
          ]
        }
      ]
    },
    {
      "cell_type": "markdown",
      "source": [
        "## `function calling` connects LLM to external tools(API):.\n",
        " By using argument in function, you will be calling a third party API. You can do this using ` chat.completions` method.\n",
        "\n",
        " but langchain is not only limited tot his.\n",
        "\n"
      ],
      "metadata": {
        "id": "K8a8R3xW2rZM"
      }
    },
    {
      "cell_type": "code",
      "source": [
        "import langchain\n",
        "from langchain.llms import OpenAI"
      ],
      "metadata": {
        "id": "w-CDf6OK2e7Y"
      },
      "execution_count": 4,
      "outputs": []
    },
    {
      "cell_type": "code",
      "source": [
        "client = OpenAI(\n",
        "    api_key=OPENAIAPIKEY\n",
        "    )\n"
      ],
      "metadata": {
        "id": "8bZgnhWq2hOA",
        "colab": {
          "base_uri": "https://localhost:8080/"
        },
        "outputId": "081741d4-96c3-408e-c78d-87ca1c76ee37"
      },
      "execution_count": 5,
      "outputs": [
        {
          "output_type": "stream",
          "name": "stderr",
          "text": [
            "/usr/local/lib/python3.10/dist-packages/langchain_core/_api/deprecation.py:117: LangChainDeprecationWarning: The class `langchain_community.llms.openai.OpenAI` was deprecated in langchain-community 0.0.10 and will be removed in 0.2.0. An updated version of the class exists in the langchain-openai package and should be used instead. To use it run `pip install -U langchain-openai` and import as `from langchain_openai import OpenAI`.\n",
            "  warn_deprecated(\n"
          ]
        }
      ]
    },
    {
      "cell_type": "code",
      "source": [
        "# zero shot prompting\n",
        "prompt=\"can yiou tell me total number of countries in asia?\"\n",
        "response = client.invoke(prompt).strip()\n",
        "response"
      ],
      "metadata": {
        "colab": {
          "base_uri": "https://localhost:8080/",
          "height": 36
        },
        "id": "ZuL8TpZH2hQG",
        "outputId": "318a4a87-8a9d-49e1-adf1-d62a586ffc6e"
      },
      "execution_count": 6,
      "outputs": [
        {
          "output_type": "execute_result",
          "data": {
            "text/plain": [
              "'There are 48 countries in Asia.'"
            ],
            "application/vnd.google.colaboratory.intrinsic+json": {
              "type": "string"
            }
          },
          "metadata": {},
          "execution_count": 6
        }
      ]
    },
    {
      "cell_type": "code",
      "source": [],
      "metadata": {
        "id": "dVIOY9e72hSV"
      },
      "execution_count": null,
      "outputs": []
    },
    {
      "cell_type": "markdown",
      "source": [
        "# Prompt templates\n",
        "A prompt template refers to a reproducible way to generate a prompt”\n",
        "\n"
      ],
      "metadata": {
        "id": "WXh3YDqkGIpW"
      }
    },
    {
      "cell_type": "code",
      "source": [
        "from langchain.prompts import PromptTemplate"
      ],
      "metadata": {
        "id": "J7o4jKHB2hYR"
      },
      "execution_count": 7,
      "outputs": []
    },
    {
      "cell_type": "code",
      "source": [
        "# object of projecttemplate class\n",
        "\n",
        "prompt_template_name = PromptTemplate(\n",
        "    input_variables=[\"country\"],\n",
        "    template =\"can you tell me the capital of {country}?\"   # template: how may prompt will ve looking like\n",
        ")"
      ],
      "metadata": {
        "id": "P2ExGmz_2haF"
      },
      "execution_count": 8,
      "outputs": []
    },
    {
      "cell_type": "code",
      "source": [
        "prompt_template_name.format(\n",
        "    country=\"china\"\n",
        "    )"
      ],
      "metadata": {
        "colab": {
          "base_uri": "https://localhost:8080/",
          "height": 36
        },
        "id": "Rr8aJmDo2hbl",
        "outputId": "3a008d5f-b803-4fcd-af87-8b028b745e63"
      },
      "execution_count": 9,
      "outputs": [
        {
          "output_type": "execute_result",
          "data": {
            "text/plain": [
              "'can you tell me the capital of china?'"
            ],
            "application/vnd.google.colaboratory.intrinsic+json": {
              "type": "string"
            }
          },
          "metadata": {},
          "execution_count": 9
        }
      ]
    },
    {
      "cell_type": "code",
      "source": [],
      "metadata": {
        "id": "FHcUBl-u19YH"
      },
      "execution_count": 9,
      "outputs": []
    },
    {
      "cell_type": "code",
      "source": [
        "x = PromptTemplate(\n",
        "    input_variables=[\"Pronoun\",\"Name\"],\n",
        "    template = \"{Pronoun} is {Name}.\"\n",
        ")\n",
        "\n",
        "x.format(\n",
        "    Pronoun = \"I\",\n",
        "    Name = \"Zohaib\"\n",
        ")"
      ],
      "metadata": {
        "colab": {
          "base_uri": "https://localhost:8080/",
          "height": 36
        },
        "id": "ybKcX0f4OHsr",
        "outputId": "f437d661-4955-4c50-c184-fc416249ad77"
      },
      "execution_count": 10,
      "outputs": [
        {
          "output_type": "execute_result",
          "data": {
            "text/plain": [
              "'I is Zohaib.'"
            ],
            "application/vnd.google.colaboratory.intrinsic+json": {
              "type": "string"
            }
          },
          "metadata": {},
          "execution_count": 10
        }
      ]
    },
    {
      "cell_type": "code",
      "source": [],
      "metadata": {
        "id": "Nh_Sm2-dOHvH"
      },
      "execution_count": 10,
      "outputs": []
    },
    {
      "cell_type": "markdown",
      "source": [
        "# with this you can create a prompt based on input variable. you also dont want use to give whole prompt. You may  only want cityname from user.  Langchain give us this functionality\n"
      ],
      "metadata": {
        "id": "zvQehZ0JYaOE"
      }
    },
    {
      "cell_type": "code",
      "source": [
        "prompt_template_name.format(\n",
        "    country=\"china\"\n",
        "    )\n",
        "prompt1 = prompt_template_name.format(country = \"China\")\n",
        "response1 = client.invoke(prompt1).strip()\n",
        "response1"
      ],
      "metadata": {
        "colab": {
          "base_uri": "https://localhost:8080/",
          "height": 36
        },
        "id": "MbXTs2r-OHxs",
        "outputId": "137d2569-ceee-4489-f994-d109cdc632a0"
      },
      "execution_count": 11,
      "outputs": [
        {
          "output_type": "execute_result",
          "data": {
            "text/plain": [
              "'The capital of China is Beijing.'"
            ],
            "application/vnd.google.colaboratory.intrinsic+json": {
              "type": "string"
            }
          },
          "metadata": {},
          "execution_count": 11
        }
      ]
    },
    {
      "cell_type": "code",
      "source": [
        "# another way\n",
        "prompt3 = PromptTemplate.from_template(\"what is a good name for a country that makes a {product}?\")\n",
        "prompt3"
      ],
      "metadata": {
        "colab": {
          "base_uri": "https://localhost:8080/"
        },
        "id": "53Z-rRH9OH1q",
        "outputId": "aeda5fd9-c5ed-481e-bb65-e16a21c25b74"
      },
      "execution_count": 12,
      "outputs": [
        {
          "output_type": "execute_result",
          "data": {
            "text/plain": [
              "PromptTemplate(input_variables=['product'], template='what is a good name for a country that makes a {product}?')"
            ]
          },
          "metadata": {},
          "execution_count": 12
        }
      ]
    },
    {
      "cell_type": "code",
      "source": [
        "prompt3 = prompt3.format(product=\"toys\")\n",
        "prompt3"
      ],
      "metadata": {
        "colab": {
          "base_uri": "https://localhost:8080/",
          "height": 36
        },
        "id": "unpO0d51XLry",
        "outputId": "7dc44eb0-00d9-4971-b8e9-25f088f9e423"
      },
      "execution_count": 13,
      "outputs": [
        {
          "output_type": "execute_result",
          "data": {
            "text/plain": [
              "'what is a good name for a country that makes a toys?'"
            ],
            "application/vnd.google.colaboratory.intrinsic+json": {
              "type": "string"
            }
          },
          "metadata": {},
          "execution_count": 13
        }
      ]
    },
    {
      "cell_type": "code",
      "source": [
        "client.invoke(prompt3).strip()"
      ],
      "metadata": {
        "colab": {
          "base_uri": "https://localhost:8080/",
          "height": 36
        },
        "id": "abWa0B0qOH34",
        "outputId": "d7cfd16c-1158-4c32-d933-a9bba95ccd89"
      },
      "execution_count": 14,
      "outputs": [
        {
          "output_type": "execute_result",
          "data": {
            "text/plain": [
              "'Toylandia'"
            ],
            "application/vnd.google.colaboratory.intrinsic+json": {
              "type": "string"
            }
          },
          "metadata": {},
          "execution_count": 14
        }
      ]
    },
    {
      "cell_type": "code",
      "source": [],
      "metadata": {
        "id": "AAnwv4B3OH5Q"
      },
      "execution_count": null,
      "outputs": []
    },
    {
      "cell_type": "code",
      "source": [],
      "metadata": {
        "id": "08VTzoSYOH7s"
      },
      "execution_count": null,
      "outputs": []
    },
    {
      "cell_type": "markdown",
      "source": [
        "## Agent\n",
        "  is to call any third-party tool\n",
        "\n",
        "  An LLM agent is an artificial intelligence system that utilizes a large language model (LLM) as its core computational engine to exhibit capabilities beyond text generation, including conducting conversations, completing tasks, reasoning, and can demonstrate some degree of autonomous behaviour.\n",
        "\n",
        "\n",
        "  LLM agents are directed through carefully engineered prompts that encode personas, instructions, permissions, and context to shape the agent's responses and actions.\n",
        "\n",
        "  A key advantage of LLM agents is their ability to varying degrees of autonomy. Based on the capabilities granted during the design phase, agents can exhibit self-directed behaviours ranging from purely reactive to highly proactive.\n",
        "\n",
        "  With sufficient prompting and access to knowledge, LLM agents can work semi-autonomously to assist humans in a range of applications, from conversational chatbots to goal-driven automation of workflows and tasks.\n",
        "\n",
        "  "
      ],
      "metadata": {
        "id": "Ck1aeW7xXqBR"
      }
    },
    {
      "cell_type": "code",
      "source": [
        "prompt4 = \"who won the recent ccricket worldcup?\"\n",
        "response4 = client.invoke(prompt4).strip()\n",
        "response4"
      ],
      "metadata": {
        "id": "oYJFG_StXu-z",
        "colab": {
          "base_uri": "https://localhost:8080/",
          "height": 36
        },
        "outputId": "dc71b057-dda8-4f07-8e4e-162414750250"
      },
      "execution_count": 15,
      "outputs": [
        {
          "output_type": "execute_result",
          "data": {
            "text/plain": [
              "'The recent cricket World Cup was won by England in 2019.'"
            ],
            "application/vnd.google.colaboratory.intrinsic+json": {
              "type": "string"
            }
          },
          "metadata": {},
          "execution_count": 15
        }
      ]
    },
    {
      "cell_type": "code",
      "source": [
        "# for extracting realtime info\n",
        "\n",
        "\n",
        "\n",
        "# SERPAIAPIKEY\n",
        "\n"
      ],
      "metadata": {
        "id": "J1STVpYJXvs0"
      },
      "execution_count": 20,
      "outputs": []
    },
    {
      "cell_type": "code",
      "source": [
        "from langchain.agents import AgentType, load_tools, initialize_agent\n",
        "from langchain.llms import OpenAI"
      ],
      "metadata": {
        "id": "IZZit-K-XvvO"
      },
      "execution_count": 19,
      "outputs": []
    },
    {
      "cell_type": "code",
      "source": [
        "# SERPAIAPIKEY\n",
        "\n",
        "client = OpenAI(openai_api_key = OPENAIAPIKEY)\n",
        "\n",
        "# load a tool\n",
        "\n",
        "tool = load_tools(\n",
        "    [\"serpapi\"],\n",
        "    serpapi_api_key=SERPAIAPIKEY,\n",
        "    llm = client\n",
        "\n",
        ")\n",
        "tool"
      ],
      "metadata": {
        "id": "SaT4uMZNXvx_",
        "colab": {
          "base_uri": "https://localhost:8080/"
        },
        "outputId": "093d372d-00a1-4a6f-996f-6b41ea8323c4"
      },
      "execution_count": 21,
      "outputs": [
        {
          "output_type": "execute_result",
          "data": {
            "text/plain": [
              "[Tool(name='Search', description='A search engine. Useful for when you need to answer questions about current events. Input should be a search query.', func=<bound method SerpAPIWrapper.run of SerpAPIWrapper(search_engine=<class 'serpapi.google_search.GoogleSearch'>, params={'engine': 'google', 'google_domain': 'google.com', 'gl': 'us', 'hl': 'en'}, serpapi_api_key='e77744bc185e55d699bd8780219369043f60c033c0c10219fffbd08c536173ac', aiosession=None)>, coroutine=<bound method SerpAPIWrapper.arun of SerpAPIWrapper(search_engine=<class 'serpapi.google_search.GoogleSearch'>, params={'engine': 'google', 'google_domain': 'google.com', 'gl': 'us', 'hl': 'en'}, serpapi_api_key='e77744bc185e55d699bd8780219369043f60c033c0c10219fffbd08c536173ac', aiosession=None)>)]"
            ]
          },
          "metadata": {},
          "execution_count": 21
        }
      ]
    },
    {
      "cell_type": "code",
      "source": [
        "# agent_type\n",
        "\n",
        "agent= initialize_agent(\n",
        "    tool,\n",
        "    client,\n",
        "    agent = AgentType.ZERO_SHOT_REACT_DESCRIPTION,\n",
        "    verbose =True\n",
        "\n",
        ")\n",
        "# agent"
      ],
      "metadata": {
        "id": "cCmqtYPoXv0L"
      },
      "execution_count": 26,
      "outputs": []
    },
    {
      "cell_type": "code",
      "source": [
        "agent.run(\n",
        "    \"Who won recent cricket worldcup?\"\n",
        ")"
      ],
      "metadata": {
        "id": "G1_bgXCWXv2X",
        "colab": {
          "base_uri": "https://localhost:8080/",
          "height": 366
        },
        "outputId": "cbb2f226-e4e7-4b23-9c90-c3239da4166b"
      },
      "execution_count": 23,
      "outputs": [
        {
          "output_type": "stream",
          "name": "stderr",
          "text": [
            "/usr/local/lib/python3.10/dist-packages/langchain_core/_api/deprecation.py:117: LangChainDeprecationWarning: The function `run` was deprecated in LangChain 0.1.0 and will be removed in 0.2.0. Use invoke instead.\n",
            "  warn_deprecated(\n"
          ]
        },
        {
          "output_type": "stream",
          "name": "stdout",
          "text": [
            "\n",
            "\n",
            "\u001b[1m> Entering new AgentExecutor chain...\u001b[0m\n",
            "\u001b[32;1m\u001b[1;3m Cricket being a popular sport, I should be able to find the answer easily on a search engine.\n",
            "Action: Search\n",
            "Action Input: \"recent cricket worldcup winner\"\u001b[0m\n",
            "Observation: \u001b[36;1m\u001b[1;3m{'title': 'ICC Cricket World Cup', 'thumbnail': 'https://serpapi.com/searches/65ec42690f9866d7e3a149e3/images/13e55d721619d9cfc5901da78c6bd87d833f768ebd101429137beeb9a9c0674f.png', 'games': [{'tournament': 'ICC Cricket World Cup', 'stadium': 'Narendra Modi Stadium', 'date': 'Nov 19, 23', 'teams': [{'name': 'India', 'score': '240 (50)', 'thumbnail': 'https://serpapi.com/searches/65ec42690f9866d7e3a149e3/images/13e55d721619d9cf48d849f5e98006fdb2d61f68c93d5c5d680d7c0fffb897fdb28b3e8650059349eb9734dde3775083.png'}, {'name': 'Australia', 'score': '241/4 (43)', 'thumbnail': 'https://serpapi.com/searches/65ec42690f9866d7e3a149e3/images/13e55d721619d9cf48d849f5e98006fdb2d61f68c93d5c5de78dedffe8abcdfd464bb467402148d61eee27a3b6703e6d.png'}], 'status': 'AUS won by 6 wickets (42 balls left)'}, {'tournament': 'ICC Cricket World Cup', 'stadium': 'Eden Gardens', 'date': 'Nov 16, 23', 'teams': [{'name': 'South Africa', 'score': '212 (49.4)', 'thumbnail': 'https://serpapi.com/searches/65ec42690f9866d7e3a149e3/images/13e55d721619d9cf48d849f5e98006fd145692d1e4c364457f935d8d608026c0b073a7f05d3e653eea2c53707d55555b.png'}, {'name': 'Australia', 'score': '215/7 (47.2)', 'thumbnail': 'https://serpapi.com/searches/65ec42690f9866d7e3a149e3/images/13e55d721619d9cf48d849f5e98006fd145692d1e4c3644599aa40bf498af342c0e35cc58ad84ec0de9fc585a97c01d6.png'}], 'status': 'AUS won by 3 wickets (16 balls left)'}, {'tournament': 'ICC Cricket World Cup', 'stadium': 'Wankhede Stadium', 'date': 'Nov 15, 23', 'teams': [{'name': 'India', 'score': '397/4 (50)', 'thumbnail': 'https://serpapi.com/searches/65ec42690f9866d7e3a149e3/images/13e55d721619d9cf48d849f5e98006fd89094923b2371fca8a1daf74b11ea96854b657272a927849ed05301dcdc4172a.png'}, {'name': 'New Zealand', 'score': '327 (48.5)', 'thumbnail': 'https://serpapi.com/searches/65ec42690f9866d7e3a149e3/images/13e55d721619d9cf48d849f5e98006fd89094923b2371fca56bb0338b23923d086beb16d583cf2fcd536b3d6d57fbacd.png'}], 'status': 'IND won by 70 runs'}, {'tournament': 'ICC Cricket World Cup', 'stadium': 'M. Chinnaswamy Stadium', 'date': 'Nov 12, 23', 'teams': [{'name': 'India', 'score': '410/4 (50)', 'thumbnail': 'https://serpapi.com/searches/65ec42690f9866d7e3a149e3/images/13e55d721619d9cf48d849f5e98006fdba0e5b17b2d496711fa3bfbb4c7a349a4b50bbb32a99794d93dcb6c693f56812.png'}, {'name': 'Netherlands', 'score': '250 (47.5)', 'thumbnail': 'https://serpapi.com/searches/65ec42690f9866d7e3a149e3/images/13e55d721619d9cf48d849f5e98006fdba0e5b17b2d49671916b8706bbc9954962fc70318918b588059157f83b15b830.png'}], 'status': 'IND won by 160 runs'}, {'tournament': 'ICC Cricket World Cup', 'stadium': 'Eden Gardens', 'date': 'Nov 11, 23', 'teams': [{'name': 'England', 'score': '337/9 (50)', 'thumbnail': 'https://serpapi.com/searches/65ec42690f9866d7e3a149e3/images/13e55d721619d9cf48d849f5e98006fd5a8dc007ba300d2f88cdbea2f51efbb23346d489152bf8a134d7635f456c00ab.png'}, {'name': 'Pakistan', 'score': '244 (43.3)', 'thumbnail': 'https://serpapi.com/searches/65ec42690f9866d7e3a149e3/images/13e55d721619d9cf48d849f5e98006fd5a8dc007ba300d2ff7d83a0338686b0b27b4c2b470bed706e2fb5fbbba9155e6.png'}], 'status': 'ENG won by 93 runs'}, {'tournament': 'ICC Cricket World Cup', 'stadium': 'Maharashtra Cricket Association Stadium', 'date': 'Nov 11, 23', 'teams': [{'name': 'Bangladesh', 'score': '306/8 (50)', 'thumbnail': 'https://serpapi.com/searches/65ec42690f9866d7e3a149e3/images/13e55d721619d9cf48d849f5e98006fdd764f95c36c8c713869b01aae6d3cc26e91ce5285d3cb9b4a1b0f215ac9f0d08.png'}, {'name': 'Australia', 'score': '307/2 (44.4)', 'thumbnail': 'https://serpapi.com/searches/65ec42690f9866d7e3a149e3/images/13e55d721619d9cf48d849f5e98006fdd764f95c36c8c713873bc6608699c9cd41512e2500f3cc124d3ab52145663853.png'}], 'status': 'AUS won by 8 wickets (32 balls left)'}]}\u001b[0m\n",
            "Thought:\u001b[32;1m\u001b[1;3m I see that Australia won the recent cricket world cup, but I should verify this information on a reliable source.\n",
            "Action: Search\n",
            "Action Input: \"recent cricket worldcup winner\"\u001b[0m\n",
            "Observation: \u001b[36;1m\u001b[1;3m{'title': 'ICC Cricket World Cup', 'thumbnail': 'https://serpapi.com/searches/65ec42690f9866d7e3a149e3/images/13e55d721619d9cfc5901da78c6bd87d833f768ebd101429137beeb9a9c0674f.png', 'games': [{'tournament': 'ICC Cricket World Cup', 'stadium': 'Narendra Modi Stadium', 'date': 'Nov 19, 23', 'teams': [{'name': 'India', 'score': '240 (50)', 'thumbnail': 'https://serpapi.com/searches/65ec42690f9866d7e3a149e3/images/13e55d721619d9cf48d849f5e98006fdb2d61f68c93d5c5d680d7c0fffb897fdb28b3e8650059349eb9734dde3775083.png'}, {'name': 'Australia', 'score': '241/4 (43)', 'thumbnail': 'https://serpapi.com/searches/65ec42690f9866d7e3a149e3/images/13e55d721619d9cf48d849f5e98006fdb2d61f68c93d5c5de78dedffe8abcdfd464bb467402148d61eee27a3b6703e6d.png'}], 'status': 'AUS won by 6 wickets (42 balls left)'}, {'tournament': 'ICC Cricket World Cup', 'stadium': 'Eden Gardens', 'date': 'Nov 16, 23', 'teams': [{'name': 'South Africa', 'score': '212 (49.4)', 'thumbnail': 'https://serpapi.com/searches/65ec42690f9866d7e3a149e3/images/13e55d721619d9cf48d849f5e98006fd145692d1e4c364457f935d8d608026c0b073a7f05d3e653eea2c53707d55555b.png'}, {'name': 'Australia', 'score': '215/7 (47.2)', 'thumbnail': 'https://serpapi.com/searches/65ec42690f9866d7e3a149e3/images/13e55d721619d9cf48d849f5e98006fd145692d1e4c3644599aa40bf498af342c0e35cc58ad84ec0de9fc585a97c01d6.png'}], 'status': 'AUS won by 3 wickets (16 balls left)'}, {'tournament': 'ICC Cricket World Cup', 'stadium': 'Wankhede Stadium', 'date': 'Nov 15, 23', 'teams': [{'name': 'India', 'score': '397/4 (50)', 'thumbnail': 'https://serpapi.com/searches/65ec42690f9866d7e3a149e3/images/13e55d721619d9cf48d849f5e98006fd89094923b2371fca8a1daf74b11ea96854b657272a927849ed05301dcdc4172a.png'}, {'name': 'New Zealand', 'score': '327 (48.5)', 'thumbnail': 'https://serpapi.com/searches/65ec42690f9866d7e3a149e3/images/13e55d721619d9cf48d849f5e98006fd89094923b2371fca56bb0338b23923d086beb16d583cf2fcd536b3d6d57fbacd.png'}], 'status': 'IND won by 70 runs'}, {'tournament': 'ICC Cricket World Cup', 'stadium': 'M. Chinnaswamy Stadium', 'date': 'Nov 12, 23', 'teams': [{'name': 'India', 'score': '410/4 (50)', 'thumbnail': 'https://serpapi.com/searches/65ec42690f9866d7e3a149e3/images/13e55d721619d9cf48d849f5e98006fdba0e5b17b2d496711fa3bfbb4c7a349a4b50bbb32a99794d93dcb6c693f56812.png'}, {'name': 'Netherlands', 'score': '250 (47.5)', 'thumbnail': 'https://serpapi.com/searches/65ec42690f9866d7e3a149e3/images/13e55d721619d9cf48d849f5e98006fdba0e5b17b2d49671916b8706bbc9954962fc70318918b588059157f83b15b830.png'}], 'status': 'IND won by 160 runs'}, {'tournament': 'ICC Cricket World Cup', 'stadium': 'Eden Gardens', 'date': 'Nov 11, 23', 'teams': [{'name': 'England', 'score': '337/9 (50)', 'thumbnail': 'https://serpapi.com/searches/65ec42690f9866d7e3a149e3/images/13e55d721619d9cf48d849f5e98006fd5a8dc007ba300d2f88cdbea2f51efbb23346d489152bf8a134d7635f456c00ab.png'}, {'name': 'Pakistan', 'score': '244 (43.3)', 'thumbnail': 'https://serpapi.com/searches/65ec42690f9866d7e3a149e3/images/13e55d721619d9cf48d849f5e98006fd5a8dc007ba300d2ff7d83a0338686b0b27b4c2b470bed706e2fb5fbbba9155e6.png'}], 'status': 'ENG won by 93 runs'}, {'tournament': 'ICC Cricket World Cup', 'stadium': 'Maharashtra Cricket Association Stadium', 'date': 'Nov 11, 23', 'teams': [{'name': 'Bangladesh', 'score': '306/8 (50)', 'thumbnail': 'https://serpapi.com/searches/65ec42690f9866d7e3a149e3/images/13e55d721619d9cf48d849f5e98006fdd764f95c36c8c713869b01aae6d3cc26e91ce5285d3cb9b4a1b0f215ac9f0d08.png'}, {'name': 'Australia', 'score': '307/2 (44.4)', 'thumbnail': 'https://serpapi.com/searches/65ec42690f9866d7e3a149e3/images/13e55d721619d9cf48d849f5e98006fdd764f95c36c8c713873bc6608699c9cd41512e2500f3cc124d3ab52145663853.png'}], 'status': 'AUS won by 8 wickets (32 balls left)'}]}\u001b[0m\n",
            "Thought:\u001b[32;1m\u001b[1;3m I now know that Australia is the winner of the recent cricket world cup.\n",
            "Final Answer: Australia is the winner of the recent cricket world cup.\u001b[0m\n",
            "\n",
            "\u001b[1m> Finished chain.\u001b[0m\n"
          ]
        },
        {
          "output_type": "execute_result",
          "data": {
            "text/plain": [
              "'Australia is the winner of the recent cricket world cup.'"
            ],
            "application/vnd.google.colaboratory.intrinsic+json": {
              "type": "string"
            }
          },
          "metadata": {},
          "execution_count": 23
        }
      ]
    },
    {
      "cell_type": "code",
      "source": [
        "! pip install wikipedia"
      ],
      "metadata": {
        "id": "Z-McYwibXv56"
      },
      "execution_count": null,
      "outputs": []
    },
    {
      "cell_type": "code",
      "source": [],
      "metadata": {
        "id": "JKi53hF2Xv84"
      },
      "execution_count": null,
      "outputs": []
    },
    {
      "cell_type": "code",
      "source": [],
      "metadata": {
        "id": "80hkv58wXv_m"
      },
      "execution_count": null,
      "outputs": []
    },
    {
      "cell_type": "code",
      "source": [],
      "metadata": {
        "id": "D_8kyDeeXwCY"
      },
      "execution_count": null,
      "outputs": []
    }
  ]
}