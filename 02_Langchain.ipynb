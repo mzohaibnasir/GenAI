{
  "nbformat": 4,
  "nbformat_minor": 0,
  "metadata": {
    "colab": {
      "provenance": [],
      "authorship_tag": "ABX9TyO4K4X3cNLJpSkYSAWyFE9w",
      "include_colab_link": true
    },
    "kernelspec": {
      "name": "python3",
      "display_name": "Python 3"
    },
    "language_info": {
      "name": "python"
    }
  },
  "cells": [
    {
      "cell_type": "markdown",
      "metadata": {
        "id": "view-in-github",
        "colab_type": "text"
      },
      "source": [
        "<a href=\"https://colab.research.google.com/github/mzohaibnasir/GenAI/blob/main/02_Langchain.ipynb\" target=\"_parent\"><img src=\"https://colab.research.google.com/assets/colab-badge.svg\" alt=\"Open In Colab\"/></a>"
      ]
    },
    {
      "cell_type": "markdown",
      "source": [
        "# Langchain: a wrapper arounf openai"
      ],
      "metadata": {
        "id": "IT8aHyxK4zUR"
      }
    },
    {
      "cell_type": "code",
      "execution_count": 25,
      "metadata": {
        "id": "7A8hI7N42X7L"
      },
      "outputs": [],
      "source": [
        "from google.colab import userdata\n",
        "OPENAIAPIKEY = userdata.get('OPENAIAPIKEY')"
      ]
    },
    {
      "cell_type": "code",
      "source": [
        "! pip install langchain\n",
        "! pip install openai"
      ],
      "metadata": {
        "id": "1Nwi2OBc4etm"
      },
      "execution_count": null,
      "outputs": []
    },
    {
      "cell_type": "markdown",
      "source": [
        "## `function calling` connects LLM to external tools(API):.\n",
        " By using argument in function, you will be calling a third party API. You can do this using ` chat.completions` method.\n",
        "\n",
        " but langchain is not only limited tot his.\n",
        "\n"
      ],
      "metadata": {
        "id": "K8a8R3xW2rZM"
      }
    },
    {
      "cell_type": "code",
      "source": [
        "import langchain\n",
        "from langchain.llms import OpenAI"
      ],
      "metadata": {
        "id": "w-CDf6OK2e7Y"
      },
      "execution_count": 3,
      "outputs": []
    },
    {
      "cell_type": "code",
      "source": [
        "client = OpenAI(\n",
        "    api_key=OPENAIAPIKEY\n",
        "    )\n"
      ],
      "metadata": {
        "id": "8bZgnhWq2hOA"
      },
      "execution_count": 26,
      "outputs": []
    },
    {
      "cell_type": "code",
      "source": [
        "# zero shot prompting\n",
        "prompt=\"can yiou tell me total number of countries in asia?\"\n",
        "response = client.invoke(prompt).strip()\n",
        "response"
      ],
      "metadata": {
        "colab": {
          "base_uri": "https://localhost:8080/",
          "height": 36
        },
        "id": "ZuL8TpZH2hQG",
        "outputId": "3cff5a47-1ac2-4115-8962-3f46102b037a"
      },
      "execution_count": 5,
      "outputs": [
        {
          "output_type": "execute_result",
          "data": {
            "text/plain": [
              "'There are 48 countries in Asia.'"
            ],
            "application/vnd.google.colaboratory.intrinsic+json": {
              "type": "string"
            }
          },
          "metadata": {},
          "execution_count": 5
        }
      ]
    },
    {
      "cell_type": "code",
      "source": [],
      "metadata": {
        "id": "dVIOY9e72hSV"
      },
      "execution_count": 5,
      "outputs": []
    },
    {
      "cell_type": "markdown",
      "source": [
        "# Prompt templates\n",
        "A prompt template refers to a reproducible way to generate a prompt”\n",
        "\n"
      ],
      "metadata": {
        "id": "WXh3YDqkGIpW"
      }
    },
    {
      "cell_type": "code",
      "source": [
        "from langchain.prompts import PromptTemplate"
      ],
      "metadata": {
        "id": "J7o4jKHB2hYR"
      },
      "execution_count": 6,
      "outputs": []
    },
    {
      "cell_type": "code",
      "source": [
        "# object of projecttemplate class\n",
        "\n",
        "prompt_template_name = PromptTemplate(\n",
        "    input_variables=[\"country\"],\n",
        "    template =\"can you tell me the capital of {country}?\"   # template: how may prompt will ve looking like\n",
        ")"
      ],
      "metadata": {
        "id": "P2ExGmz_2haF"
      },
      "execution_count": 7,
      "outputs": []
    },
    {
      "cell_type": "code",
      "source": [
        "prompt_template_name.format(\n",
        "    country=\"china\"\n",
        "    )"
      ],
      "metadata": {
        "colab": {
          "base_uri": "https://localhost:8080/",
          "height": 36
        },
        "id": "Rr8aJmDo2hbl",
        "outputId": "3d0a9e57-ebc5-4118-8f87-e547b389a94e"
      },
      "execution_count": 8,
      "outputs": [
        {
          "output_type": "execute_result",
          "data": {
            "text/plain": [
              "'can you tell me the capital of china?'"
            ],
            "application/vnd.google.colaboratory.intrinsic+json": {
              "type": "string"
            }
          },
          "metadata": {},
          "execution_count": 8
        }
      ]
    },
    {
      "cell_type": "code",
      "source": [],
      "metadata": {
        "id": "FHcUBl-u19YH"
      },
      "execution_count": 8,
      "outputs": []
    },
    {
      "cell_type": "code",
      "source": [
        "x = PromptTemplate(\n",
        "    input_variables=[\"Pronoun\",\"Name\"],\n",
        "    template = \"{Pronoun} is {Name}.\"\n",
        ")\n",
        "\n",
        "x.format(\n",
        "    Pronoun = \"I\",\n",
        "    Name = \"Zohaib\"\n",
        ")"
      ],
      "metadata": {
        "colab": {
          "base_uri": "https://localhost:8080/",
          "height": 36
        },
        "id": "ybKcX0f4OHsr",
        "outputId": "f050e28c-ff05-4fb0-e449-4dedfabec79a"
      },
      "execution_count": 9,
      "outputs": [
        {
          "output_type": "execute_result",
          "data": {
            "text/plain": [
              "'I is Zohaib.'"
            ],
            "application/vnd.google.colaboratory.intrinsic+json": {
              "type": "string"
            }
          },
          "metadata": {},
          "execution_count": 9
        }
      ]
    },
    {
      "cell_type": "code",
      "source": [],
      "metadata": {
        "id": "Nh_Sm2-dOHvH"
      },
      "execution_count": 9,
      "outputs": []
    },
    {
      "cell_type": "markdown",
      "source": [
        "# with this you can create a prompt based on input variable. you also dont want use to give whole prompt. You may  only want cityname from user.  Langchain give us this functionality\n"
      ],
      "metadata": {
        "id": "zvQehZ0JYaOE"
      }
    },
    {
      "cell_type": "code",
      "source": [
        "prompt_template_name.format(\n",
        "    country=\"china\"\n",
        "    )\n",
        "prompt1 = prompt_template_name.format(country = \"China\")\n",
        "response1 = client.invoke(prompt1).strip()\n",
        "response1"
      ],
      "metadata": {
        "colab": {
          "base_uri": "https://localhost:8080/",
          "height": 36
        },
        "id": "MbXTs2r-OHxs",
        "outputId": "70a45d8c-383c-44e3-90b2-a1f28d42b521"
      },
      "execution_count": 10,
      "outputs": [
        {
          "output_type": "execute_result",
          "data": {
            "text/plain": [
              "'The capital of China is Beijing.'"
            ],
            "application/vnd.google.colaboratory.intrinsic+json": {
              "type": "string"
            }
          },
          "metadata": {},
          "execution_count": 10
        }
      ]
    },
    {
      "cell_type": "code",
      "source": [
        "# another way\n",
        "prompt3 = PromptTemplate.from_template(\"what is a good name for a country that makes a {product}?\")\n",
        "prompt3"
      ],
      "metadata": {
        "colab": {
          "base_uri": "https://localhost:8080/"
        },
        "id": "53Z-rRH9OH1q",
        "outputId": "2797ffdf-746f-431b-8087-4b1fee3a5c32"
      },
      "execution_count": 23,
      "outputs": [
        {
          "output_type": "execute_result",
          "data": {
            "text/plain": [
              "PromptTemplate(input_variables=['product'], template='what is a good name for a country that makes a {product}?')"
            ]
          },
          "metadata": {},
          "execution_count": 23
        }
      ]
    },
    {
      "cell_type": "code",
      "source": [
        "prompt3 = prompt3.format(product=\"toys\")\n",
        "prompt3"
      ],
      "metadata": {
        "colab": {
          "base_uri": "https://localhost:8080/",
          "height": 36
        },
        "id": "unpO0d51XLry",
        "outputId": "fb8d9d0a-5cda-4616-fb29-fab0216b773d"
      },
      "execution_count": 24,
      "outputs": [
        {
          "output_type": "execute_result",
          "data": {
            "text/plain": [
              "'what is a good name for a country that makes a toys?'"
            ],
            "application/vnd.google.colaboratory.intrinsic+json": {
              "type": "string"
            }
          },
          "metadata": {},
          "execution_count": 24
        }
      ]
    },
    {
      "cell_type": "code",
      "source": [
        "client.invoke(prompt3).strip()"
      ],
      "metadata": {
        "colab": {
          "base_uri": "https://localhost:8080/",
          "height": 36
        },
        "id": "abWa0B0qOH34",
        "outputId": "d9b50464-fc22-4b11-a4ca-7637bf56e438"
      },
      "execution_count": 27,
      "outputs": [
        {
          "output_type": "execute_result",
          "data": {
            "text/plain": [
              "'\"Playtopia\"'"
            ],
            "application/vnd.google.colaboratory.intrinsic+json": {
              "type": "string"
            }
          },
          "metadata": {},
          "execution_count": 27
        }
      ]
    },
    {
      "cell_type": "code",
      "source": [],
      "metadata": {
        "id": "AAnwv4B3OH5Q"
      },
      "execution_count": 11,
      "outputs": []
    },
    {
      "cell_type": "code",
      "source": [],
      "metadata": {
        "id": "08VTzoSYOH7s"
      },
      "execution_count": 11,
      "outputs": []
    },
    {
      "cell_type": "markdown",
      "source": [
        "## Agent\n",
        "  is to call any third-party tool"
      ],
      "metadata": {
        "id": "Ck1aeW7xXqBR"
      }
    },
    {
      "cell_type": "code",
      "source": [],
      "metadata": {
        "id": "oYJFG_StXu-z"
      },
      "execution_count": 24,
      "outputs": []
    },
    {
      "cell_type": "code",
      "source": [],
      "metadata": {
        "id": "J1STVpYJXvs0"
      },
      "execution_count": null,
      "outputs": []
    },
    {
      "cell_type": "code",
      "source": [],
      "metadata": {
        "id": "IZZit-K-XvvO"
      },
      "execution_count": null,
      "outputs": []
    },
    {
      "cell_type": "code",
      "source": [],
      "metadata": {
        "id": "SaT4uMZNXvx_"
      },
      "execution_count": null,
      "outputs": []
    },
    {
      "cell_type": "code",
      "source": [],
      "metadata": {
        "id": "cCmqtYPoXv0L"
      },
      "execution_count": null,
      "outputs": []
    },
    {
      "cell_type": "code",
      "source": [],
      "metadata": {
        "id": "G1_bgXCWXv2X"
      },
      "execution_count": null,
      "outputs": []
    },
    {
      "cell_type": "code",
      "source": [],
      "metadata": {
        "id": "Aaak4hV1Xv4A"
      },
      "execution_count": null,
      "outputs": []
    },
    {
      "cell_type": "code",
      "source": [],
      "metadata": {
        "id": "Z-McYwibXv56"
      },
      "execution_count": null,
      "outputs": []
    },
    {
      "cell_type": "code",
      "source": [],
      "metadata": {
        "id": "JKi53hF2Xv84"
      },
      "execution_count": null,
      "outputs": []
    },
    {
      "cell_type": "code",
      "source": [],
      "metadata": {
        "id": "80hkv58wXv_m"
      },
      "execution_count": null,
      "outputs": []
    },
    {
      "cell_type": "code",
      "source": [],
      "metadata": {
        "id": "D_8kyDeeXwCY"
      },
      "execution_count": null,
      "outputs": []
    }
  ]
}