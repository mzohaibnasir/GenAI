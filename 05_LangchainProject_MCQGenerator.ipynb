{
  "nbformat": 4,
  "nbformat_minor": 0,
  "metadata": {
    "colab": {
      "provenance": [],
      "authorship_tag": "ABX9TyNQEqXO1eCsnMOKRUUIYXYX",
      "include_colab_link": true
    },
    "kernelspec": {
      "name": "python3",
      "display_name": "Python 3"
    },
    "language_info": {
      "name": "python"
    }
  },
  "cells": [
    {
      "cell_type": "markdown",
      "metadata": {
        "id": "view-in-github",
        "colab_type": "text"
      },
      "source": [
        "<a href=\"https://colab.research.google.com/github/mzohaibnasir/GenAI/blob/main/05_LangchainProject_MCQGenerator.ipynb\" target=\"_parent\"><img src=\"https://colab.research.google.com/assets/colab-badge.svg\" alt=\"Open In Colab\"/></a>"
      ]
    },
    {
      "cell_type": "code",
      "execution_count": null,
      "metadata": {
        "id": "nFZCFnThRkC8"
      },
      "outputs": [],
      "source": [
        "! pip install openai langchain streamlit python-dotenv PyPDF2"
      ]
    },
    {
      "cell_type": "code",
      "source": [
        "import os\n",
        "import json\n",
        "import pandas as pd\n",
        "import traceback\n",
        "from dotenv import load_dotenv # imports key value pairs from .env file and can set them as env variables"
      ],
      "metadata": {
        "id": "uF3dUJYUe__N"
      },
      "execution_count": 15,
      "outputs": []
    },
    {
      "cell_type": "code",
      "source": [
        "from langchain.chat_models import ChatOpenAI   # to access openai api\n",
        "from langchain.llms import OpenAI\n",
        "from langchain.prompts import PromptTemplate\n",
        "from langchain.chains import LLMChain, SequentialChain\n",
        "from langchain.callbacks import get_openai_callback\n",
        "\n",
        "import PyPDF2"
      ],
      "metadata": {
        "id": "8dgUS0Gbgw8b"
      },
      "execution_count": 16,
      "outputs": []
    },
    {
      "cell_type": "code",
      "source": [
        "from google.colab import userdata\n",
        "\n",
        "OPENAIAPIKEY = userdata.get(\"OPENAIAPIKEY\")\n",
        "# os.getenv(\"OPENAIAPIKEY\")\n",
        "\n",
        "# or\n",
        "\n",
        "# load_dotenv() will load all env varibales implicity.. mean no declaring\n"
      ],
      "metadata": {
        "id": "CbMLZiZET9qy"
      },
      "execution_count": 6,
      "outputs": []
    },
    {
      "cell_type": "code",
      "source": [
        "\n",
        "llm = ChatOpenAI(\n",
        "    api_key=OPENAIAPIKEY,\n",
        "    model_name=\"gpt-3.5-turbo\",\n",
        "    temperature=0.5\n",
        ")\n",
        "# llm"
      ],
      "metadata": {
        "id": "v2Q17VsDT9tY"
      },
      "execution_count": 14,
      "outputs": []
    },
    {
      "cell_type": "markdown",
      "source": [
        "# 1. Design input and output prompts\n"
      ],
      "metadata": {
        "id": "ioOFg5Xqpp_k"
      }
    },
    {
      "cell_type": "code",
      "source": [
        "# RESPONSE FORMAT\n",
        "RESPONSE_JSON = {\n",
        "    \"1\": {\n",
        "        \"mcq\": \"multiple choice question\",\n",
        "        \"options\": {\n",
        "            \"a\": \"choice here\",\n",
        "            \"b\": \"choice here\",\n",
        "            \"c\": \"choice here\",\n",
        "            \"d\": \"choice here\",\n",
        "        },\n",
        "        \"correct\": \"correct answer\",\n",
        "    },\n",
        "    \"2\": {\n",
        "        \"mcq\": \"multiple choice question\",\n",
        "        \"options\": {\n",
        "            \"a\": \"choice here\",\n",
        "            \"b\": \"choice here\",\n",
        "            \"c\": \"choice here\",\n",
        "            \"d\": \"choice here\",\n",
        "        },\n",
        "        \"correct\": \"correct answer\",\n",
        "    },\n",
        "    \"3\": {\n",
        "        \"mcq\": \"multiple choice question\",\n",
        "        \"options\": {\n",
        "            \"a\": \"choice here\",\n",
        "            \"b\": \"choice here\",\n",
        "            \"c\": \"choice here\",\n",
        "            \"d\": \"choice here\",\n",
        "        },\n",
        "        \"correct\": \"correct answer\",\n",
        "    },\n",
        "}"
      ],
      "metadata": {
        "id": "xacTNH0ilW9L"
      },
      "execution_count": 21,
      "outputs": []
    },
    {
      "cell_type": "code",
      "source": [
        "\n",
        "TEMPLATE = \"\"\"\n",
        "Text:{text}\n",
        "You are an expert MCQ maker. Given the above text, it is your job to \\\n",
        "create a quiz  of {number} multiple choice questions for {subject} students in {tone} tone.\n",
        "Make sure the questions are not repeated and check all the questions to be conforming the text as well.\n",
        "Make sure to format your response like  RESPONSE_JSON below  and use it as a guide. \\\n",
        "Ensure to make {number} MCQs\n",
        "### RESPONSE_JSON\n",
        "{response_json}\n",
        "\n",
        "\"\"\"\n",
        "\n"
      ],
      "metadata": {
        "id": "dB5Qh2K6T9vn"
      },
      "execution_count": 22,
      "outputs": []
    },
    {
      "cell_type": "code",
      "source": [
        "quiz_generation_prompt = PromptTemplate(\n",
        "    input_variables=['text', 'number', 'subject', 'tone', 'response_json'],  # vars will be input by user\n",
        "    template=TEMPLATE\n",
        ")"
      ],
      "metadata": {
        "id": "8lyyVi78lW_k"
      },
      "execution_count": 23,
      "outputs": []
    },
    {
      "cell_type": "markdown",
      "source": [
        "2. Use LLMChain to connect LLM and prompt"
      ],
      "metadata": {
        "id": "33MCEh4iqfXt"
      }
    },
    {
      "cell_type": "code",
      "source": [
        "quiz_chain = LLMChain(\n",
        "    llm=llm,\n",
        "    prompt = quiz_generation_prompt,\n",
        "    output_key=\"quiz\",\n",
        "    verbose=True\n",
        ")\n",
        "# quiz_chain"
      ],
      "metadata": {
        "id": "0V-UGmlylXCJ"
      },
      "execution_count": 25,
      "outputs": []
    },
    {
      "cell_type": "markdown",
      "source": [
        "# 3. prompt to evaluate generated quiz"
      ],
      "metadata": {
        "id": "3WukXRCkrMK4"
      }
    },
    {
      "cell_type": "code",
      "source": [
        "TEMPLATE2=\"\"\"\n",
        "You are an expert english grammarian and writer. Given a Multiple Choice Quiz for {subject} students.\\\n",
        "You need to evaluate the complexity of the question and give a complete analysis of the quiz. Only use at max 50 words for complexity analysis.\n",
        "if the quiz is not at per with the cognitive and analytical abilities of the students,\\\n",
        "update the quiz questions which needs to be changed and change the tone such that it perfectly fits the student abilities\n",
        "Quiz_MCQs:\n",
        "{quiz}\n",
        "\n",
        "Check from an expert English Writer of the above quiz:\n",
        "\"\"\""
      ],
      "metadata": {
        "id": "TSYqSVQelXEY"
      },
      "execution_count": 26,
      "outputs": []
    },
    {
      "cell_type": "code",
      "source": [
        "quiz_evaluation_prompt = PromptTemplate(\n",
        "    input_variables=['subject', 'quiz'],  # vars will be input by user\n",
        "    template=TEMPLATE2\n",
        ")"
      ],
      "metadata": {
        "id": "IBxn2FKpT9x1"
      },
      "execution_count": 27,
      "outputs": []
    },
    {
      "cell_type": "code",
      "source": [
        "review_chain = LLMChain(\n",
        "    llm=llm,\n",
        "    prompt = quiz_evaluation_prompt,\n",
        "    output_key=\"review\",\n",
        "    verbose=True\n",
        ")\n",
        "# review_chain"
      ],
      "metadata": {
        "id": "itgG6Nr6Rcc9"
      },
      "execution_count": 28,
      "outputs": []
    },
    {
      "cell_type": "markdown",
      "source": [
        "# 4. Connect both chains using sequentialChain"
      ],
      "metadata": {
        "id": "QP2lYtCJrxiU"
      }
    },
    {
      "cell_type": "code",
      "source": [
        "generate_evaluate_chain = SequentialChain(\n",
        "\n",
        "                                          chains=[quiz_chain, review_chain],\n",
        "                                          input_variables=['text', 'number', 'subject', 'tone', 'response_json'],\n",
        "                                          output_variables = ['quiz','review'],\n",
        "                                          verbose=True,\n",
        ")\n",
        "# generate_evaluate_chain"
      ],
      "metadata": {
        "id": "-eTvi1cEriQa"
      },
      "execution_count": 34,
      "outputs": []
    },
    {
      "cell_type": "markdown",
      "source": [
        "# 5. Getting data\n",
        "\n",
        "to get data :\n",
        "1. if you have data in pdf, load the pdf, etc on basis of which quiz will be created"
      ],
      "metadata": {
        "id": "CCvicJ8ptZf2"
      }
    },
    {
      "cell_type": "code",
      "source": [
        "file_path = r'./data.txt'"
      ],
      "metadata": {
        "id": "uh97dsZBuM-s"
      },
      "execution_count": 40,
      "outputs": []
    },
    {
      "cell_type": "code",
      "source": [
        "with open(file_path, 'r') as file:\n",
        "    TEXT = file.read()"
      ],
      "metadata": {
        "id": "JobUWNdrriSa"
      },
      "execution_count": 41,
      "outputs": []
    },
    {
      "cell_type": "code",
      "source": [
        "print(TEXT)"
      ],
      "metadata": {
        "id": "vAzwWsO-riUL",
        "outputId": "58a1ba9a-451b-4a02-be42-c38ade56fdc3",
        "colab": {
          "base_uri": "https://localhost:8080/"
        }
      },
      "execution_count": 42,
      "outputs": [
        {
          "output_type": "stream",
          "name": "stdout",
          "text": [
            "Biology is the scientific study of life.[1][2][3] It is a natural science with a broad scope but has several unifying themes that tie it together as a single, coherent field.[1][2][3] For instance, all organisms are made up of cells that process hereditary information encoded in genes, which can be transmitted to future generations. Another major theme is evolution, which explains the unity and diversity of life.[1][2][3] Energy processing is also important to life as it allows organisms to move, grow, and reproduce.[1][2][3] Finally, all organisms are able to regulate their own internal environments.[1][2][3][4][5]\n",
            "\n",
            "Biologists are able to study life at multiple levels of organization,[1] from the molecular biology of a cell to the anatomy and physiology of plants and animals, and evolution of populations.[1][6] Hence, there are multiple subdisciplines within biology, each defined by the nature of their research questions and the tools that they use.[7][8][9] Like other scientists, biologists use the scientific method to make observations, pose questions, generate hypotheses, perform experiments, and form conclusions about the world around them.[1]\n",
            "\n",
            "Life on Earth, which emerged more than 3.7 billion years ago,[10] is immensely diverse. Biologists have sought to study and classify the various forms of life, from prokaryotic organisms such as archaea and bacteria to eukaryotic organisms such as protists, fungi, plants, and animals. These various organisms contribute to the biodiversity of an ecosystem, where they play specialized roles in the cycling of nutrients and energy through their biophysical environment.\n"
          ]
        }
      ]
    },
    {
      "cell_type": "code",
      "source": [
        "# Serialize the Python dictionary into a JSON-formatted string\n",
        "json.dumps(RESPONSE_JSON)\n"
      ],
      "metadata": {
        "id": "ODTf0nFpriVu",
        "outputId": "adab98fd-4a8f-49dd-eb46-fbb1c641d275",
        "colab": {
          "base_uri": "https://localhost:8080/",
          "height": 90
        }
      },
      "execution_count": 43,
      "outputs": [
        {
          "output_type": "execute_result",
          "data": {
            "text/plain": [
              "'{\"1\": {\"mcq\": \"multiple choice question\", \"options\": {\"a\": \"choice here\", \"b\": \"choice here\", \"c\": \"choice here\", \"d\": \"choice here\"}, \"correct\": \"correct answer\"}, \"2\": {\"mcq\": \"multiple choice question\", \"options\": {\"a\": \"choice here\", \"b\": \"choice here\", \"c\": \"choice here\", \"d\": \"choice here\"}, \"correct\": \"correct answer\"}, \"3\": {\"mcq\": \"multiple choice question\", \"options\": {\"a\": \"choice here\", \"b\": \"choice here\", \"c\": \"choice here\", \"d\": \"choice here\"}, \"correct\": \"correct answer\"}}'"
            ],
            "application/vnd.google.colaboratory.intrinsic+json": {
              "type": "string"
            }
          },
          "metadata": {},
          "execution_count": 43
        }
      ]
    },
    {
      "cell_type": "markdown",
      "source": [
        "# 6. Token tracking in Langchain\n",
        "  How to setup token usage traacking in langchain"
      ],
      "metadata": {
        "id": "edQcScNIvOIf"
      }
    },
    {
      "cell_type": "code",
      "source": [
        "NUMBER =5\n",
        "SUBJECT=\"machine learning\"\n",
        "TONE = 'simple'"
      ],
      "metadata": {
        "id": "gQSrKzLLw7VN"
      },
      "execution_count": 44,
      "outputs": []
    },
    {
      "cell_type": "code",
      "source": [
        "with get_openai_callback() as cb:\n",
        "  response = generate_evaluate_chain(\n",
        "      {\n",
        "          \"text\": TEXT,\n",
        "          \"number\": NUMBER,\n",
        "          \"subject\":SUBJECT,\n",
        "          \"tone\":TONE,\n",
        "          \"response_json\":json.dumps(RESPONSE_JSON)\n",
        "      }\n",
        "  )\n",
        "\n",
        "  print(cb)\n",
        "\n",
        "\n",
        "# generate_evaluate_chain:"
      ],
      "metadata": {
        "id": "pv9gMVLSriXn",
        "outputId": "7cd0d202-989f-4ad8-864f-a229a431147a",
        "colab": {
          "base_uri": "https://localhost:8080/"
        }
      },
      "execution_count": 55,
      "outputs": [
        {
          "output_type": "stream",
          "name": "stdout",
          "text": [
            "\n",
            "\n",
            "\u001b[1m> Entering new SequentialChain chain...\u001b[0m\n",
            "\n",
            "\n",
            "\u001b[1m> Entering new LLMChain chain...\u001b[0m\n",
            "Prompt after formatting:\n",
            "\u001b[32;1m\u001b[1;3m\n",
            "Text:Biology is the scientific study of life.[1][2][3] It is a natural science with a broad scope but has several unifying themes that tie it together as a single, coherent field.[1][2][3] For instance, all organisms are made up of cells that process hereditary information encoded in genes, which can be transmitted to future generations. Another major theme is evolution, which explains the unity and diversity of life.[1][2][3] Energy processing is also important to life as it allows organisms to move, grow, and reproduce.[1][2][3] Finally, all organisms are able to regulate their own internal environments.[1][2][3][4][5]\n",
            "\n",
            "Biologists are able to study life at multiple levels of organization,[1] from the molecular biology of a cell to the anatomy and physiology of plants and animals, and evolution of populations.[1][6] Hence, there are multiple subdisciplines within biology, each defined by the nature of their research questions and the tools that they use.[7][8][9] Like other scientists, biologists use the scientific method to make observations, pose questions, generate hypotheses, perform experiments, and form conclusions about the world around them.[1]\n",
            "\n",
            "Life on Earth, which emerged more than 3.7 billion years ago,[10] is immensely diverse. Biologists have sought to study and classify the various forms of life, from prokaryotic organisms such as archaea and bacteria to eukaryotic organisms such as protists, fungi, plants, and animals. These various organisms contribute to the biodiversity of an ecosystem, where they play specialized roles in the cycling of nutrients and energy through their biophysical environment.\n",
            "You are an expert MCQ maker. Given the above text, it is your job to create a quiz  of 5 multiple choice questions for machine learning students in simple tone. \n",
            "Make sure the questions are not repeated and check all the questions to be conforming the text as well.\n",
            "Make sure to format your response like  RESPONSE_JSON below  and use it as a guide. Ensure to make 5 MCQs\n",
            "### RESPONSE_JSON\n",
            "{\"1\": {\"mcq\": \"multiple choice question\", \"options\": {\"a\": \"choice here\", \"b\": \"choice here\", \"c\": \"choice here\", \"d\": \"choice here\"}, \"correct\": \"correct answer\"}, \"2\": {\"mcq\": \"multiple choice question\", \"options\": {\"a\": \"choice here\", \"b\": \"choice here\", \"c\": \"choice here\", \"d\": \"choice here\"}, \"correct\": \"correct answer\"}, \"3\": {\"mcq\": \"multiple choice question\", \"options\": {\"a\": \"choice here\", \"b\": \"choice here\", \"c\": \"choice here\", \"d\": \"choice here\"}, \"correct\": \"correct answer\"}}\n",
            "\n",
            "\u001b[0m\n",
            "\n",
            "\u001b[1m> Finished chain.\u001b[0m\n",
            "\n",
            "\n",
            "\u001b[1m> Entering new LLMChain chain...\u001b[0m\n",
            "Prompt after formatting:\n",
            "\u001b[32;1m\u001b[1;3m\n",
            "You are an expert english grammarian and writer. Given a Multiple Choice Quiz for machine learning students.You need to evaluate the complexity of the question and give a complete analysis of the quiz. Only use at max 50 words for complexity analysis. \n",
            "if the quiz is not at per with the cognitive and analytical abilities of the students,update the quiz questions which needs to be changed and change the tone such that it perfectly fits the student abilities\n",
            "Quiz_MCQs:\n",
            "\n",
            "{\n",
            "  \"1\": {\n",
            "    \"mcq\": \"What is biology?\",\n",
            "    \"options\": {\n",
            "      \"a\": \"The study of rocks\",\n",
            "      \"b\": \"The scientific study of life\",\n",
            "      \"c\": \"The study of outer space\",\n",
            "      \"d\": \"The study of economics\"\n",
            "    },\n",
            "    \"correct\": \"b\"\n",
            "  },\n",
            "  \"2\": {\n",
            "    \"mcq\": \"What is a major theme in biology that explains the unity and diversity of life?\",\n",
            "    \"options\": {\n",
            "      \"a\": \"Evolution\",\n",
            "      \"b\": \"Chemistry\",\n",
            "      \"c\": \"Physics\",\n",
            "      \"d\": \"Geology\"\n",
            "    },\n",
            "    \"correct\": \"a\"\n",
            "  },\n",
            "  \"3\": {\n",
            "    \"mcq\": \"What allows organisms to move, grow, and reproduce?\",\n",
            "    \"options\": {\n",
            "      \"a\": \"Energy processing\",\n",
            "      \"b\": \"Sleeping\",\n",
            "      \"c\": \"Meditation\",\n",
            "      \"d\": \"Reading\"\n",
            "    },\n",
            "    \"correct\": \"a\"\n",
            "  },\n",
            "  \"4\": {\n",
            "    \"mcq\": \"What is a key component that all organisms are made up of?\",\n",
            "    \"options\": {\n",
            "      \"a\": \"Atoms\",\n",
            "      \"b\": \"Cells\",\n",
            "      \"c\": \"Rocks\",\n",
            "      \"d\": \"Clouds\"\n",
            "    },\n",
            "    \"correct\": \"b\"\n",
            "  },\n",
            "  \"5\": {\n",
            "    \"mcq\": \"How do biologists study life at different levels of organization?\",\n",
            "    \"options\": {\n",
            "      \"a\": \"By staring at the sky\",\n",
            "      \"b\": \"By asking random people\",\n",
            "      \"c\": \"By using the scientific method\",\n",
            "      \"d\": \"By guessing\"\n",
            "    },\n",
            "    \"correct\": \"c\"\n",
            "  }\n",
            "}\n",
            "\n",
            "Check from an expert English Writer of the above quiz:\n",
            "\u001b[0m\n",
            "\n",
            "\u001b[1m> Finished chain.\u001b[0m\n",
            "\n",
            "\u001b[1m> Finished chain.\u001b[0m\n",
            "Tokens Used: 1497\n",
            "\tPrompt Tokens: 1077\n",
            "\tCompletion Tokens: 420\n",
            "Successful Requests: 2\n",
            "Total Cost (USD): $0.0024555\n"
          ]
        }
      ]
    },
    {
      "cell_type": "code",
      "source": [
        "print(f\"Total Tokens:{cb.total_tokens}\")\n",
        "print(f\"Prompt Tokens:{cb.prompt_tokens}\")\n",
        "print(f\"Completion Tokens:{cb.completion_tokens}\")\n",
        "print(f\"Total Cost:{cb.total_cost}\")\n",
        "\n",
        "\n"
      ],
      "metadata": {
        "id": "7DLfRcjnvIE6",
        "outputId": "a5adaf41-67fe-4043-911b-aca9341526d2",
        "colab": {
          "base_uri": "https://localhost:8080/"
        }
      },
      "execution_count": 56,
      "outputs": [
        {
          "output_type": "stream",
          "name": "stdout",
          "text": [
            "Total Tokens:1497\n",
            "Prompt Tokens:1077\n",
            "Completion Tokens:420\n",
            "Total Cost:0.0024555\n"
          ]
        }
      ]
    },
    {
      "cell_type": "code",
      "source": [
        "response"
      ],
      "metadata": {
        "id": "t3IC5D6ZvIMo",
        "outputId": "26a609dc-5421-42e8-ea5e-4953ddeb5d85",
        "colab": {
          "base_uri": "https://localhost:8080/"
        }
      },
      "execution_count": 60,
      "outputs": [
        {
          "output_type": "execute_result",
          "data": {
            "text/plain": [
              "{'text': 'Biology is the scientific study of life.[1][2][3] It is a natural science with a broad scope but has several unifying themes that tie it together as a single, coherent field.[1][2][3] For instance, all organisms are made up of cells that process hereditary information encoded in genes, which can be transmitted to future generations. Another major theme is evolution, which explains the unity and diversity of life.[1][2][3] Energy processing is also important to life as it allows organisms to move, grow, and reproduce.[1][2][3] Finally, all organisms are able to regulate their own internal environments.[1][2][3][4][5]\\n\\nBiologists are able to study life at multiple levels of organization,[1] from the molecular biology of a cell to the anatomy and physiology of plants and animals, and evolution of populations.[1][6] Hence, there are multiple subdisciplines within biology, each defined by the nature of their research questions and the tools that they use.[7][8][9] Like other scientists, biologists use the scientific method to make observations, pose questions, generate hypotheses, perform experiments, and form conclusions about the world around them.[1]\\n\\nLife on Earth, which emerged more than 3.7 billion years ago,[10] is immensely diverse. Biologists have sought to study and classify the various forms of life, from prokaryotic organisms such as archaea and bacteria to eukaryotic organisms such as protists, fungi, plants, and animals. These various organisms contribute to the biodiversity of an ecosystem, where they play specialized roles in the cycling of nutrients and energy through their biophysical environment.',\n",
              " 'number': 5,\n",
              " 'subject': 'machine learning',\n",
              " 'tone': 'simple',\n",
              " 'response_json': '{\"1\": {\"mcq\": \"multiple choice question\", \"options\": {\"a\": \"choice here\", \"b\": \"choice here\", \"c\": \"choice here\", \"d\": \"choice here\"}, \"correct\": \"correct answer\"}, \"2\": {\"mcq\": \"multiple choice question\", \"options\": {\"a\": \"choice here\", \"b\": \"choice here\", \"c\": \"choice here\", \"d\": \"choice here\"}, \"correct\": \"correct answer\"}, \"3\": {\"mcq\": \"multiple choice question\", \"options\": {\"a\": \"choice here\", \"b\": \"choice here\", \"c\": \"choice here\", \"d\": \"choice here\"}, \"correct\": \"correct answer\"}}',\n",
              " 'quiz': '\\n{\\n  \"1\": {\\n    \"mcq\": \"What is biology?\",\\n    \"options\": {\\n      \"a\": \"The study of rocks\",\\n      \"b\": \"The scientific study of life\",\\n      \"c\": \"The study of outer space\",\\n      \"d\": \"The study of economics\"\\n    },\\n    \"correct\": \"b\"\\n  },\\n  \"2\": {\\n    \"mcq\": \"What is a major theme in biology that explains the unity and diversity of life?\",\\n    \"options\": {\\n      \"a\": \"Evolution\",\\n      \"b\": \"Chemistry\",\\n      \"c\": \"Physics\",\\n      \"d\": \"Geology\"\\n    },\\n    \"correct\": \"a\"\\n  },\\n  \"3\": {\\n    \"mcq\": \"What allows organisms to move, grow, and reproduce?\",\\n    \"options\": {\\n      \"a\": \"Energy processing\",\\n      \"b\": \"Sleeping\",\\n      \"c\": \"Meditation\",\\n      \"d\": \"Reading\"\\n    },\\n    \"correct\": \"a\"\\n  },\\n  \"4\": {\\n    \"mcq\": \"What is a key component that all organisms are made up of?\",\\n    \"options\": {\\n      \"a\": \"Atoms\",\\n      \"b\": \"Cells\",\\n      \"c\": \"Rocks\",\\n      \"d\": \"Clouds\"\\n    },\\n    \"correct\": \"b\"\\n  },\\n  \"5\": {\\n    \"mcq\": \"How do biologists study life at different levels of organization?\",\\n    \"options\": {\\n      \"a\": \"By staring at the sky\",\\n      \"b\": \"By asking random people\",\\n      \"c\": \"By using the scientific method\",\\n      \"d\": \"By guessing\"\\n    },\\n    \"correct\": \"c\"\\n  }\\n}',\n",
              " 'review': 'The complexity of the quiz is appropriate for machine learning students as it tests basic knowledge of biology concepts. The questions are clear and straightforward, focusing on fundamental principles. No changes are needed for student abilities. The tone is engaging and suitable for the target audience.'}"
            ]
          },
          "metadata": {},
          "execution_count": 60
        }
      ]
    },
    {
      "cell_type": "code",
      "source": [
        "print(response.get('quiz'))"
      ],
      "metadata": {
        "id": "_8vGRK9uvIJ2",
        "outputId": "fc28a743-f92e-4be0-d25f-5ec8a19b8bf1",
        "colab": {
          "base_uri": "https://localhost:8080/"
        }
      },
      "execution_count": 61,
      "outputs": [
        {
          "output_type": "stream",
          "name": "stdout",
          "text": [
            "\n",
            "{\n",
            "  \"1\": {\n",
            "    \"mcq\": \"What is biology?\",\n",
            "    \"options\": {\n",
            "      \"a\": \"The study of rocks\",\n",
            "      \"b\": \"The scientific study of life\",\n",
            "      \"c\": \"The study of outer space\",\n",
            "      \"d\": \"The study of economics\"\n",
            "    },\n",
            "    \"correct\": \"b\"\n",
            "  },\n",
            "  \"2\": {\n",
            "    \"mcq\": \"What is a major theme in biology that explains the unity and diversity of life?\",\n",
            "    \"options\": {\n",
            "      \"a\": \"Evolution\",\n",
            "      \"b\": \"Chemistry\",\n",
            "      \"c\": \"Physics\",\n",
            "      \"d\": \"Geology\"\n",
            "    },\n",
            "    \"correct\": \"a\"\n",
            "  },\n",
            "  \"3\": {\n",
            "    \"mcq\": \"What allows organisms to move, grow, and reproduce?\",\n",
            "    \"options\": {\n",
            "      \"a\": \"Energy processing\",\n",
            "      \"b\": \"Sleeping\",\n",
            "      \"c\": \"Meditation\",\n",
            "      \"d\": \"Reading\"\n",
            "    },\n",
            "    \"correct\": \"a\"\n",
            "  },\n",
            "  \"4\": {\n",
            "    \"mcq\": \"What is a key component that all organisms are made up of?\",\n",
            "    \"options\": {\n",
            "      \"a\": \"Atoms\",\n",
            "      \"b\": \"Cells\",\n",
            "      \"c\": \"Rocks\",\n",
            "      \"d\": \"Clouds\"\n",
            "    },\n",
            "    \"correct\": \"b\"\n",
            "  },\n",
            "  \"5\": {\n",
            "    \"mcq\": \"How do biologists study life at different levels of organization?\",\n",
            "    \"options\": {\n",
            "      \"a\": \"By staring at the sky\",\n",
            "      \"b\": \"By asking random people\",\n",
            "      \"c\": \"By using the scientific method\",\n",
            "      \"d\": \"By guessing\"\n",
            "    },\n",
            "    \"correct\": \"c\"\n",
            "  }\n",
            "}\n"
          ]
        }
      ]
    },
    {
      "cell_type": "code",
      "source": [
        "quiz = response.get('quiz')\n",
        "quiz"
      ],
      "metadata": {
        "id": "UP156VCCvIO6",
        "outputId": "cb123ec0-74c5-4513-ebea-6d46fbeab450",
        "colab": {
          "base_uri": "https://localhost:8080/",
          "height": 145
        }
      },
      "execution_count": 62,
      "outputs": [
        {
          "output_type": "execute_result",
          "data": {
            "text/plain": [
              "'\\n{\\n  \"1\": {\\n    \"mcq\": \"What is biology?\",\\n    \"options\": {\\n      \"a\": \"The study of rocks\",\\n      \"b\": \"The scientific study of life\",\\n      \"c\": \"The study of outer space\",\\n      \"d\": \"The study of economics\"\\n    },\\n    \"correct\": \"b\"\\n  },\\n  \"2\": {\\n    \"mcq\": \"What is a major theme in biology that explains the unity and diversity of life?\",\\n    \"options\": {\\n      \"a\": \"Evolution\",\\n      \"b\": \"Chemistry\",\\n      \"c\": \"Physics\",\\n      \"d\": \"Geology\"\\n    },\\n    \"correct\": \"a\"\\n  },\\n  \"3\": {\\n    \"mcq\": \"What allows organisms to move, grow, and reproduce?\",\\n    \"options\": {\\n      \"a\": \"Energy processing\",\\n      \"b\": \"Sleeping\",\\n      \"c\": \"Meditation\",\\n      \"d\": \"Reading\"\\n    },\\n    \"correct\": \"a\"\\n  },\\n  \"4\": {\\n    \"mcq\": \"What is a key component that all organisms are made up of?\",\\n    \"options\": {\\n      \"a\": \"Atoms\",\\n      \"b\": \"Cells\",\\n      \"c\": \"Rocks\",\\n      \"d\": \"Clouds\"\\n    },\\n    \"correct\": \"b\"\\n  },\\n  \"5\": {\\n    \"mcq\": \"How do biologists study life at different levels of organization?\",\\n    \"options\": {\\n      \"a\": \"By staring at the sky\",\\n      \"b\": \"By asking random people\",\\n      \"c\": \"By using the scientific method\",\\n      \"d\": \"By guessing\"\\n    },\\n    \"correct\": \"c\"\\n  }\\n}'"
            ],
            "application/vnd.google.colaboratory.intrinsic+json": {
              "type": "string"
            }
          },
          "metadata": {},
          "execution_count": 62
        }
      ]
    },
    {
      "cell_type": "code",
      "source": [
        "quiz = json.loads(quiz)"
      ],
      "metadata": {
        "id": "2-vFp47fvIRG"
      },
      "execution_count": 65,
      "outputs": []
    },
    {
      "cell_type": "markdown",
      "source": [
        "# 6. Creating dataframe"
      ],
      "metadata": {
        "id": "Ln8kr0k5zTo6"
      }
    },
    {
      "cell_type": "code",
      "source": [
        "quiz_table_data = []\n",
        "for key, value in quiz.items():\n",
        "    mcq = value[\"mcq\"]\n",
        "    options = \" | \".join(\n",
        "        [\n",
        "            f\"{option}: {option_value}\"\n",
        "            for option, option_value in value[\"options\"].items()\n",
        "            ]\n",
        "        )\n",
        "    correct = value[\"correct\"]\n",
        "    quiz_table_data.append({\"MCQ\": mcq, \"Choices\": options, \"Correct\": correct})\n",
        "quiz_table_data"
      ],
      "metadata": {
        "id": "fkovtI1ZvIUA",
        "outputId": "c2018dbb-6c9b-4dd2-99a8-5735b9fd31cb",
        "colab": {
          "base_uri": "https://localhost:8080/"
        }
      },
      "execution_count": 67,
      "outputs": [
        {
          "output_type": "execute_result",
          "data": {
            "text/plain": [
              "[{'MCQ': 'What is biology?',\n",
              "  'Choices': 'a: The study of rocks | b: The scientific study of life | c: The study of outer space | d: The study of economics',\n",
              "  'Correct': 'b'},\n",
              " {'MCQ': 'What is a major theme in biology that explains the unity and diversity of life?',\n",
              "  'Choices': 'a: Evolution | b: Chemistry | c: Physics | d: Geology',\n",
              "  'Correct': 'a'},\n",
              " {'MCQ': 'What allows organisms to move, grow, and reproduce?',\n",
              "  'Choices': 'a: Energy processing | b: Sleeping | c: Meditation | d: Reading',\n",
              "  'Correct': 'a'},\n",
              " {'MCQ': 'What is a key component that all organisms are made up of?',\n",
              "  'Choices': 'a: Atoms | b: Cells | c: Rocks | d: Clouds',\n",
              "  'Correct': 'b'},\n",
              " {'MCQ': 'How do biologists study life at different levels of organization?',\n",
              "  'Choices': 'a: By staring at the sky | b: By asking random people | c: By using the scientific method | d: By guessing',\n",
              "  'Correct': 'c'}]"
            ]
          },
          "metadata": {},
          "execution_count": 67
        }
      ]
    },
    {
      "cell_type": "code",
      "source": [
        "quiz=pd.DataFrame(quiz_table_data)\n",
        "quiz"
      ],
      "metadata": {
        "id": "ONB1oUxtvIWH",
        "outputId": "f71e633c-aa66-4b9e-a19a-4ee12de2623f",
        "colab": {
          "base_uri": "https://localhost:8080/",
          "height": 245
        }
      },
      "execution_count": 68,
      "outputs": [
        {
          "output_type": "execute_result",
          "data": {
            "text/plain": [
              "                                                 MCQ  \\\n",
              "0                                   What is biology?   \n",
              "1  What is a major theme in biology that explains...   \n",
              "2  What allows organisms to move, grow, and repro...   \n",
              "3  What is a key component that all organisms are...   \n",
              "4  How do biologists study life at different leve...   \n",
              "\n",
              "                                             Choices Correct  \n",
              "0  a: The study of rocks | b: The scientific stud...       b  \n",
              "1  a: Evolution | b: Chemistry | c: Physics | d: ...       a  \n",
              "2  a: Energy processing | b: Sleeping | c: Medita...       a  \n",
              "3         a: Atoms | b: Cells | c: Rocks | d: Clouds       b  \n",
              "4  a: By staring at the sky | b: By asking random...       c  "
            ],
            "text/html": [
              "\n",
              "  <div id=\"df-ddb4956e-3b7c-416e-be11-5b5b9cba2934\" class=\"colab-df-container\">\n",
              "    <div>\n",
              "<style scoped>\n",
              "    .dataframe tbody tr th:only-of-type {\n",
              "        vertical-align: middle;\n",
              "    }\n",
              "\n",
              "    .dataframe tbody tr th {\n",
              "        vertical-align: top;\n",
              "    }\n",
              "\n",
              "    .dataframe thead th {\n",
              "        text-align: right;\n",
              "    }\n",
              "</style>\n",
              "<table border=\"1\" class=\"dataframe\">\n",
              "  <thead>\n",
              "    <tr style=\"text-align: right;\">\n",
              "      <th></th>\n",
              "      <th>MCQ</th>\n",
              "      <th>Choices</th>\n",
              "      <th>Correct</th>\n",
              "    </tr>\n",
              "  </thead>\n",
              "  <tbody>\n",
              "    <tr>\n",
              "      <th>0</th>\n",
              "      <td>What is biology?</td>\n",
              "      <td>a: The study of rocks | b: The scientific stud...</td>\n",
              "      <td>b</td>\n",
              "    </tr>\n",
              "    <tr>\n",
              "      <th>1</th>\n",
              "      <td>What is a major theme in biology that explains...</td>\n",
              "      <td>a: Evolution | b: Chemistry | c: Physics | d: ...</td>\n",
              "      <td>a</td>\n",
              "    </tr>\n",
              "    <tr>\n",
              "      <th>2</th>\n",
              "      <td>What allows organisms to move, grow, and repro...</td>\n",
              "      <td>a: Energy processing | b: Sleeping | c: Medita...</td>\n",
              "      <td>a</td>\n",
              "    </tr>\n",
              "    <tr>\n",
              "      <th>3</th>\n",
              "      <td>What is a key component that all organisms are...</td>\n",
              "      <td>a: Atoms | b: Cells | c: Rocks | d: Clouds</td>\n",
              "      <td>b</td>\n",
              "    </tr>\n",
              "    <tr>\n",
              "      <th>4</th>\n",
              "      <td>How do biologists study life at different leve...</td>\n",
              "      <td>a: By staring at the sky | b: By asking random...</td>\n",
              "      <td>c</td>\n",
              "    </tr>\n",
              "  </tbody>\n",
              "</table>\n",
              "</div>\n",
              "    <div class=\"colab-df-buttons\">\n",
              "\n",
              "  <div class=\"colab-df-container\">\n",
              "    <button class=\"colab-df-convert\" onclick=\"convertToInteractive('df-ddb4956e-3b7c-416e-be11-5b5b9cba2934')\"\n",
              "            title=\"Convert this dataframe to an interactive table.\"\n",
              "            style=\"display:none;\">\n",
              "\n",
              "  <svg xmlns=\"http://www.w3.org/2000/svg\" height=\"24px\" viewBox=\"0 -960 960 960\">\n",
              "    <path d=\"M120-120v-720h720v720H120Zm60-500h600v-160H180v160Zm220 220h160v-160H400v160Zm0 220h160v-160H400v160ZM180-400h160v-160H180v160Zm440 0h160v-160H620v160ZM180-180h160v-160H180v160Zm440 0h160v-160H620v160Z\"/>\n",
              "  </svg>\n",
              "    </button>\n",
              "\n",
              "  <style>\n",
              "    .colab-df-container {\n",
              "      display:flex;\n",
              "      gap: 12px;\n",
              "    }\n",
              "\n",
              "    .colab-df-convert {\n",
              "      background-color: #E8F0FE;\n",
              "      border: none;\n",
              "      border-radius: 50%;\n",
              "      cursor: pointer;\n",
              "      display: none;\n",
              "      fill: #1967D2;\n",
              "      height: 32px;\n",
              "      padding: 0 0 0 0;\n",
              "      width: 32px;\n",
              "    }\n",
              "\n",
              "    .colab-df-convert:hover {\n",
              "      background-color: #E2EBFA;\n",
              "      box-shadow: 0px 1px 2px rgba(60, 64, 67, 0.3), 0px 1px 3px 1px rgba(60, 64, 67, 0.15);\n",
              "      fill: #174EA6;\n",
              "    }\n",
              "\n",
              "    .colab-df-buttons div {\n",
              "      margin-bottom: 4px;\n",
              "    }\n",
              "\n",
              "    [theme=dark] .colab-df-convert {\n",
              "      background-color: #3B4455;\n",
              "      fill: #D2E3FC;\n",
              "    }\n",
              "\n",
              "    [theme=dark] .colab-df-convert:hover {\n",
              "      background-color: #434B5C;\n",
              "      box-shadow: 0px 1px 3px 1px rgba(0, 0, 0, 0.15);\n",
              "      filter: drop-shadow(0px 1px 2px rgba(0, 0, 0, 0.3));\n",
              "      fill: #FFFFFF;\n",
              "    }\n",
              "  </style>\n",
              "\n",
              "    <script>\n",
              "      const buttonEl =\n",
              "        document.querySelector('#df-ddb4956e-3b7c-416e-be11-5b5b9cba2934 button.colab-df-convert');\n",
              "      buttonEl.style.display =\n",
              "        google.colab.kernel.accessAllowed ? 'block' : 'none';\n",
              "\n",
              "      async function convertToInteractive(key) {\n",
              "        const element = document.querySelector('#df-ddb4956e-3b7c-416e-be11-5b5b9cba2934');\n",
              "        const dataTable =\n",
              "          await google.colab.kernel.invokeFunction('convertToInteractive',\n",
              "                                                    [key], {});\n",
              "        if (!dataTable) return;\n",
              "\n",
              "        const docLinkHtml = 'Like what you see? Visit the ' +\n",
              "          '<a target=\"_blank\" href=https://colab.research.google.com/notebooks/data_table.ipynb>data table notebook</a>'\n",
              "          + ' to learn more about interactive tables.';\n",
              "        element.innerHTML = '';\n",
              "        dataTable['output_type'] = 'display_data';\n",
              "        await google.colab.output.renderOutput(dataTable, element);\n",
              "        const docLink = document.createElement('div');\n",
              "        docLink.innerHTML = docLinkHtml;\n",
              "        element.appendChild(docLink);\n",
              "      }\n",
              "    </script>\n",
              "  </div>\n",
              "\n",
              "\n",
              "<div id=\"df-0fa03245-d6e0-4fc5-a389-2e20d38791ab\">\n",
              "  <button class=\"colab-df-quickchart\" onclick=\"quickchart('df-0fa03245-d6e0-4fc5-a389-2e20d38791ab')\"\n",
              "            title=\"Suggest charts\"\n",
              "            style=\"display:none;\">\n",
              "\n",
              "<svg xmlns=\"http://www.w3.org/2000/svg\" height=\"24px\"viewBox=\"0 0 24 24\"\n",
              "     width=\"24px\">\n",
              "    <g>\n",
              "        <path d=\"M19 3H5c-1.1 0-2 .9-2 2v14c0 1.1.9 2 2 2h14c1.1 0 2-.9 2-2V5c0-1.1-.9-2-2-2zM9 17H7v-7h2v7zm4 0h-2V7h2v10zm4 0h-2v-4h2v4z\"/>\n",
              "    </g>\n",
              "</svg>\n",
              "  </button>\n",
              "\n",
              "<style>\n",
              "  .colab-df-quickchart {\n",
              "      --bg-color: #E8F0FE;\n",
              "      --fill-color: #1967D2;\n",
              "      --hover-bg-color: #E2EBFA;\n",
              "      --hover-fill-color: #174EA6;\n",
              "      --disabled-fill-color: #AAA;\n",
              "      --disabled-bg-color: #DDD;\n",
              "  }\n",
              "\n",
              "  [theme=dark] .colab-df-quickchart {\n",
              "      --bg-color: #3B4455;\n",
              "      --fill-color: #D2E3FC;\n",
              "      --hover-bg-color: #434B5C;\n",
              "      --hover-fill-color: #FFFFFF;\n",
              "      --disabled-bg-color: #3B4455;\n",
              "      --disabled-fill-color: #666;\n",
              "  }\n",
              "\n",
              "  .colab-df-quickchart {\n",
              "    background-color: var(--bg-color);\n",
              "    border: none;\n",
              "    border-radius: 50%;\n",
              "    cursor: pointer;\n",
              "    display: none;\n",
              "    fill: var(--fill-color);\n",
              "    height: 32px;\n",
              "    padding: 0;\n",
              "    width: 32px;\n",
              "  }\n",
              "\n",
              "  .colab-df-quickchart:hover {\n",
              "    background-color: var(--hover-bg-color);\n",
              "    box-shadow: 0 1px 2px rgba(60, 64, 67, 0.3), 0 1px 3px 1px rgba(60, 64, 67, 0.15);\n",
              "    fill: var(--button-hover-fill-color);\n",
              "  }\n",
              "\n",
              "  .colab-df-quickchart-complete:disabled,\n",
              "  .colab-df-quickchart-complete:disabled:hover {\n",
              "    background-color: var(--disabled-bg-color);\n",
              "    fill: var(--disabled-fill-color);\n",
              "    box-shadow: none;\n",
              "  }\n",
              "\n",
              "  .colab-df-spinner {\n",
              "    border: 2px solid var(--fill-color);\n",
              "    border-color: transparent;\n",
              "    border-bottom-color: var(--fill-color);\n",
              "    animation:\n",
              "      spin 1s steps(1) infinite;\n",
              "  }\n",
              "\n",
              "  @keyframes spin {\n",
              "    0% {\n",
              "      border-color: transparent;\n",
              "      border-bottom-color: var(--fill-color);\n",
              "      border-left-color: var(--fill-color);\n",
              "    }\n",
              "    20% {\n",
              "      border-color: transparent;\n",
              "      border-left-color: var(--fill-color);\n",
              "      border-top-color: var(--fill-color);\n",
              "    }\n",
              "    30% {\n",
              "      border-color: transparent;\n",
              "      border-left-color: var(--fill-color);\n",
              "      border-top-color: var(--fill-color);\n",
              "      border-right-color: var(--fill-color);\n",
              "    }\n",
              "    40% {\n",
              "      border-color: transparent;\n",
              "      border-right-color: var(--fill-color);\n",
              "      border-top-color: var(--fill-color);\n",
              "    }\n",
              "    60% {\n",
              "      border-color: transparent;\n",
              "      border-right-color: var(--fill-color);\n",
              "    }\n",
              "    80% {\n",
              "      border-color: transparent;\n",
              "      border-right-color: var(--fill-color);\n",
              "      border-bottom-color: var(--fill-color);\n",
              "    }\n",
              "    90% {\n",
              "      border-color: transparent;\n",
              "      border-bottom-color: var(--fill-color);\n",
              "    }\n",
              "  }\n",
              "</style>\n",
              "\n",
              "  <script>\n",
              "    async function quickchart(key) {\n",
              "      const quickchartButtonEl =\n",
              "        document.querySelector('#' + key + ' button');\n",
              "      quickchartButtonEl.disabled = true;  // To prevent multiple clicks.\n",
              "      quickchartButtonEl.classList.add('colab-df-spinner');\n",
              "      try {\n",
              "        const charts = await google.colab.kernel.invokeFunction(\n",
              "            'suggestCharts', [key], {});\n",
              "      } catch (error) {\n",
              "        console.error('Error during call to suggestCharts:', error);\n",
              "      }\n",
              "      quickchartButtonEl.classList.remove('colab-df-spinner');\n",
              "      quickchartButtonEl.classList.add('colab-df-quickchart-complete');\n",
              "    }\n",
              "    (() => {\n",
              "      let quickchartButtonEl =\n",
              "        document.querySelector('#df-0fa03245-d6e0-4fc5-a389-2e20d38791ab button');\n",
              "      quickchartButtonEl.style.display =\n",
              "        google.colab.kernel.accessAllowed ? 'block' : 'none';\n",
              "    })();\n",
              "  </script>\n",
              "</div>\n",
              "\n",
              "  <div id=\"id_a9beb95e-e655-4bf1-904a-925497d5f6af\">\n",
              "    <style>\n",
              "      .colab-df-generate {\n",
              "        background-color: #E8F0FE;\n",
              "        border: none;\n",
              "        border-radius: 50%;\n",
              "        cursor: pointer;\n",
              "        display: none;\n",
              "        fill: #1967D2;\n",
              "        height: 32px;\n",
              "        padding: 0 0 0 0;\n",
              "        width: 32px;\n",
              "      }\n",
              "\n",
              "      .colab-df-generate:hover {\n",
              "        background-color: #E2EBFA;\n",
              "        box-shadow: 0px 1px 2px rgba(60, 64, 67, 0.3), 0px 1px 3px 1px rgba(60, 64, 67, 0.15);\n",
              "        fill: #174EA6;\n",
              "      }\n",
              "\n",
              "      [theme=dark] .colab-df-generate {\n",
              "        background-color: #3B4455;\n",
              "        fill: #D2E3FC;\n",
              "      }\n",
              "\n",
              "      [theme=dark] .colab-df-generate:hover {\n",
              "        background-color: #434B5C;\n",
              "        box-shadow: 0px 1px 3px 1px rgba(0, 0, 0, 0.15);\n",
              "        filter: drop-shadow(0px 1px 2px rgba(0, 0, 0, 0.3));\n",
              "        fill: #FFFFFF;\n",
              "      }\n",
              "    </style>\n",
              "    <button class=\"colab-df-generate\" onclick=\"generateWithVariable('quiz')\"\n",
              "            title=\"Generate code using this dataframe.\"\n",
              "            style=\"display:none;\">\n",
              "\n",
              "  <svg xmlns=\"http://www.w3.org/2000/svg\" height=\"24px\"viewBox=\"0 0 24 24\"\n",
              "       width=\"24px\">\n",
              "    <path d=\"M7,19H8.4L18.45,9,17,7.55,7,17.6ZM5,21V16.75L18.45,3.32a2,2,0,0,1,2.83,0l1.4,1.43a1.91,1.91,0,0,1,.58,1.4,1.91,1.91,0,0,1-.58,1.4L9.25,21ZM18.45,9,17,7.55Zm-12,3A5.31,5.31,0,0,0,4.9,8.1,5.31,5.31,0,0,0,1,6.5,5.31,5.31,0,0,0,4.9,4.9,5.31,5.31,0,0,0,6.5,1,5.31,5.31,0,0,0,8.1,4.9,5.31,5.31,0,0,0,12,6.5,5.46,5.46,0,0,0,6.5,12Z\"/>\n",
              "  </svg>\n",
              "    </button>\n",
              "    <script>\n",
              "      (() => {\n",
              "      const buttonEl =\n",
              "        document.querySelector('#id_a9beb95e-e655-4bf1-904a-925497d5f6af button.colab-df-generate');\n",
              "      buttonEl.style.display =\n",
              "        google.colab.kernel.accessAllowed ? 'block' : 'none';\n",
              "\n",
              "      buttonEl.onclick = () => {\n",
              "        google.colab.notebook.generateWithVariable('quiz');\n",
              "      }\n",
              "      })();\n",
              "    </script>\n",
              "  </div>\n",
              "\n",
              "    </div>\n",
              "  </div>\n"
            ],
            "application/vnd.google.colaboratory.intrinsic+json": {
              "type": "dataframe",
              "variable_name": "quiz",
              "summary": "{\n  \"name\": \"quiz\",\n  \"rows\": 5,\n  \"fields\": [\n    {\n      \"column\": \"MCQ\",\n      \"properties\": {\n        \"dtype\": \"string\",\n        \"num_unique_values\": 5,\n        \"samples\": [\n          \"What is a major theme in biology that explains the unity and diversity of life?\",\n          \"How do biologists study life at different levels of organization?\",\n          \"What allows organisms to move, grow, and reproduce?\"\n        ],\n        \"semantic_type\": \"\",\n        \"description\": \"\"\n      }\n    },\n    {\n      \"column\": \"Choices\",\n      \"properties\": {\n        \"dtype\": \"string\",\n        \"num_unique_values\": 5,\n        \"samples\": [\n          \"a: Evolution | b: Chemistry | c: Physics | d: Geology\",\n          \"a: By staring at the sky | b: By asking random people | c: By using the scientific method | d: By guessing\",\n          \"a: Energy processing | b: Sleeping | c: Meditation | d: Reading\"\n        ],\n        \"semantic_type\": \"\",\n        \"description\": \"\"\n      }\n    },\n    {\n      \"column\": \"Correct\",\n      \"properties\": {\n        \"dtype\": \"string\",\n        \"num_unique_values\": 3,\n        \"samples\": [\n          \"b\",\n          \"a\",\n          \"c\"\n        ],\n        \"semantic_type\": \"\",\n        \"description\": \"\"\n      }\n    }\n  ]\n}"
            }
          },
          "metadata": {},
          "execution_count": 68
        }
      ]
    },
    {
      "cell_type": "code",
      "source": [
        "quiz.to_csv(\"machinelearning.csv\",index=False)"
      ],
      "metadata": {
        "id": "mQE3MxuKvIYw"
      },
      "execution_count": 69,
      "outputs": []
    },
    {
      "cell_type": "code",
      "source": [
        "from datetime import datetime\n",
        "datetime.now().strftime('%m_%d_%Y_%H_%M_%S')"
      ],
      "metadata": {
        "id": "E6H258QivIb2",
        "outputId": "c93b4de1-0b8d-4085-ee0e-b4c3e1b992ad",
        "colab": {
          "base_uri": "https://localhost:8080/",
          "height": 36
        }
      },
      "execution_count": 70,
      "outputs": [
        {
          "output_type": "execute_result",
          "data": {
            "text/plain": [
              "'03_16_2024_05_49_17'"
            ],
            "application/vnd.google.colaboratory.intrinsic+json": {
              "type": "string"
            }
          },
          "metadata": {},
          "execution_count": 70
        }
      ]
    },
    {
      "cell_type": "code",
      "source": [],
      "metadata": {
        "id": "yspYyff0riaW"
      },
      "execution_count": null,
      "outputs": []
    }
  ]
}