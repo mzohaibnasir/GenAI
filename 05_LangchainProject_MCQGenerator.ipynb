{
  "nbformat": 4,
  "nbformat_minor": 0,
  "metadata": {
    "colab": {
      "provenance": [],
      "authorship_tag": "ABX9TyMC961O1i6mVWd2d/zub3sZ",
      "include_colab_link": true
    },
    "kernelspec": {
      "name": "python3",
      "display_name": "Python 3"
    },
    "language_info": {
      "name": "python"
    }
  },
  "cells": [
    {
      "cell_type": "markdown",
      "metadata": {
        "id": "view-in-github",
        "colab_type": "text"
      },
      "source": [
        "<a href=\"https://colab.research.google.com/github/mzohaibnasir/GenAI/blob/main/05_LangchainProject_MCQGenerator.ipynb\" target=\"_parent\"><img src=\"https://colab.research.google.com/assets/colab-badge.svg\" alt=\"Open In Colab\"/></a>"
      ]
    },
    {
      "cell_type": "code",
      "execution_count": null,
      "metadata": {
        "id": "nFZCFnThRkC8"
      },
      "outputs": [],
      "source": [
        "! pip install openai langchain streamlit python-dotenv PyPDF2"
      ]
    },
    {
      "cell_type": "code",
      "source": [
        "import os\n",
        "import json\n",
        "import pandas as pd\n",
        "import traceback\n",
        "from dotenv import load_dotenv # imports key value pairs from .env file and can set them as env variables"
      ],
      "metadata": {
        "id": "uF3dUJYUe__N"
      },
      "execution_count": 15,
      "outputs": []
    },
    {
      "cell_type": "code",
      "source": [
        "from langchain.chat_models import ChatOpenAI   # to access openai api\n",
        "from langchain.llms import OpenAI\n",
        "from langchain.prompts import PromptTemplate\n",
        "from langchain.chains import LLMChain, SequentialChain\n",
        "from langchain.callbacks import get_openai_callback\n",
        "\n",
        "import PyPDF2"
      ],
      "metadata": {
        "id": "8dgUS0Gbgw8b"
      },
      "execution_count": 16,
      "outputs": []
    },
    {
      "cell_type": "code",
      "source": [
        "from google.colab import userdata\n",
        "\n",
        "OPENAIAPIKEY = userdata.get(\"OPENAIAPIKEY\")\n",
        "# os.getenv(\"OPENAIAPIKEY\")\n",
        "\n",
        "# or\n",
        "\n",
        "# load_dotenv() will load all env varibales implicity.. mean no declaring\n"
      ],
      "metadata": {
        "id": "CbMLZiZET9qy"
      },
      "execution_count": 6,
      "outputs": []
    },
    {
      "cell_type": "code",
      "source": [
        "\n",
        "llm = ChatOpenAI(\n",
        "    api_key=OPENAIAPIKEY,\n",
        "    model_name=\"gpt-3.5-turbo\",\n",
        "    temperature=0.5\n",
        ")\n",
        "# llm"
      ],
      "metadata": {
        "id": "v2Q17VsDT9tY"
      },
      "execution_count": 14,
      "outputs": []
    },
    {
      "cell_type": "code",
      "source": [
        "# 1. first we will design input and output prompts\n"
      ],
      "metadata": {
        "id": "dB5Qh2K6T9vn"
      },
      "execution_count": null,
      "outputs": []
    },
    {
      "cell_type": "code",
      "source": [],
      "metadata": {
        "id": "xacTNH0ilW9L"
      },
      "execution_count": null,
      "outputs": []
    },
    {
      "cell_type": "code",
      "source": [],
      "metadata": {
        "id": "8lyyVi78lW_k"
      },
      "execution_count": null,
      "outputs": []
    },
    {
      "cell_type": "code",
      "source": [],
      "metadata": {
        "id": "0V-UGmlylXCJ"
      },
      "execution_count": null,
      "outputs": []
    },
    {
      "cell_type": "code",
      "source": [],
      "metadata": {
        "id": "TSYqSVQelXEY"
      },
      "execution_count": null,
      "outputs": []
    },
    {
      "cell_type": "code",
      "source": [],
      "metadata": {
        "id": "IBxn2FKpT9x1"
      },
      "execution_count": null,
      "outputs": []
    },
    {
      "cell_type": "code",
      "source": [],
      "metadata": {
        "id": "itgG6Nr6Rcc9"
      },
      "execution_count": null,
      "outputs": []
    }
  ]
}