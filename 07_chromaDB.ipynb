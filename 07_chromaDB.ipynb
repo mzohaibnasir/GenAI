{
  "nbformat": 4,
  "nbformat_minor": 0,
  "metadata": {
    "colab": {
      "provenance": [],
      "authorship_tag": "ABX9TyNTL8XndifzY43mEv5tYela",
      "include_colab_link": true
    },
    "kernelspec": {
      "name": "python3",
      "display_name": "Python 3"
    },
    "language_info": {
      "name": "python"
    }
  },
  "cells": [
    {
      "cell_type": "markdown",
      "metadata": {
        "id": "view-in-github",
        "colab_type": "text"
      },
      "source": [
        "<a href=\"https://colab.research.google.com/github/mzohaibnasir/GenAI/blob/main/07_chromaDB.ipynb\" target=\"_parent\"><img src=\"https://colab.research.google.com/assets/colab-badge.svg\" alt=\"Open In Colab\"/></a>"
      ]
    },
    {
      "cell_type": "code",
      "source": [
        "import os\n",
        "from google.colab import userdata\n",
        "\n",
        "OPENAI_API_KEY = userdata.get(\"OPENAI_API_KEY\")\n",
        "PINECONE_API_KEY = userdata.get(\"PINECONE_API_KEY\")\n",
        "\n",
        "\n",
        "os.environ['OPENAI_API_KEY'] = OPENAI_API_KEY\n",
        "os.environ['PINECONE_API_KEY'] = PINECONE_API_KEY\n",
        "\n",
        "\n",
        "# OPENAIAPIKEY,PINECONEAPIKEY"
      ],
      "metadata": {
        "id": "4TQ-LVbuf85o"
      },
      "execution_count": 1,
      "outputs": []
    },
    {
      "cell_type": "markdown",
      "source": [
        "# Chroma Vector DB\n",
        "\n",
        "pinecone is designed to handle real-time search and similarity matching at scale.. automatic indexing is available but its costly and limited querying functionality\n",
        "\n",
        "Chromadb is not cloud based but it is smilar to pinecone(designed for vector storage and handle retreval). opensource. extensive querying but deployment complexity and might not be great as pinecone in realtime.\n"
      ],
      "metadata": {
        "id": "IRvJ2j_TfzP3"
      }
    },
    {
      "cell_type": "code",
      "execution_count": null,
      "metadata": {
        "id": "EL13fhNifvQM"
      },
      "outputs": [],
      "source": [
        "! pip install langchain\n",
        "! pip install openai\n",
        "! pip install tiktoken\n",
        "! pip install chromadb\n",
        "!pip install unstructured\n",
        "# ! pip install pypdf\n",
        "# ! pip install -U langchain_chroma\n",
        "# ! pip install -U langchain_openai"
      ]
    },
    {
      "cell_type": "code",
      "source": [
        "! pip show chromadb"
      ],
      "metadata": {
        "colab": {
          "base_uri": "https://localhost:8080/"
        },
        "id": "Wt9NKyv8f51v",
        "outputId": "490d7af3-f0bc-436b-a623-e0ff83d1bc10"
      },
      "execution_count": 4,
      "outputs": [
        {
          "output_type": "stream",
          "name": "stdout",
          "text": [
            "Name: chromadb\n",
            "Version: 0.4.24\n",
            "Summary: Chroma.\n",
            "Home-page: \n",
            "Author: \n",
            "Author-email: Jeff Huber <jeff@trychroma.com>, Anton Troynikov <anton@trychroma.com>\n",
            "License: \n",
            "Location: /usr/local/lib/python3.10/dist-packages\n",
            "Requires: bcrypt, build, chroma-hnswlib, fastapi, grpcio, importlib-resources, kubernetes, mmh3, numpy, onnxruntime, opentelemetry-api, opentelemetry-exporter-otlp-proto-grpc, opentelemetry-instrumentation-fastapi, opentelemetry-sdk, orjson, overrides, posthog, pulsar-client, pydantic, pypika, PyYAML, requests, tenacity, tokenizers, tqdm, typer, typing-extensions, uvicorn\n",
            "Required-by: \n"
          ]
        }
      ]
    },
    {
      "cell_type": "code",
      "source": [
        "from langchain.vectorstores import Chroma\n",
        "from langchain.embeddings import OpenAIEmbeddings\n",
        "from langchain.llms import OpenAI\n",
        "from langchain.document_loaders import DirectoryLoader, TextLoader"
      ],
      "metadata": {
        "id": "BT6unO6X1P4a"
      },
      "execution_count": 8,
      "outputs": []
    },
    {
      "cell_type": "code",
      "source": [
        "! wget -q https://www.dropbox.com/s/vs6ocyvpzzncvwh/new_articles.zip"
      ],
      "metadata": {
        "id": "-H8QLMtjf539"
      },
      "execution_count": 6,
      "outputs": []
    },
    {
      "cell_type": "code",
      "source": [
        "! unzip -q new_articles.zip -d new_articles"
      ],
      "metadata": {
        "id": "uPP-drKdlGgD"
      },
      "execution_count": 7,
      "outputs": []
    },
    {
      "cell_type": "code",
      "source": [
        "loader = DirectoryLoader(\"/content/new_articles\",\n",
        "                glob = \"./*.txt\")\n",
        "document = loader.load()"
      ],
      "metadata": {
        "id": "jls3FFYUf55n"
      },
      "execution_count": 12,
      "outputs": []
    },
    {
      "cell_type": "code",
      "source": [
        "len(document), print(document[0].page_content)"
      ],
      "metadata": {
        "colab": {
          "base_uri": "https://localhost:8080/"
        },
        "id": "eCu7ljUEv-N2",
        "outputId": "1cf833aa-bd2d-4853-98fe-149e12f01cf8"
      },
      "execution_count": 16,
      "outputs": [
        {
          "output_type": "stream",
          "name": "stdout",
          "text": [
            "It’s that time of week again, folks — Week in Review (WiR) time. For those new to the scene, WiR is TechCrunch’s regular newsletter that recaps the biggest tech stories over the past few days. There’s no better digest for the person on the go, we’d argue — but of course, we’re a little biased.\n",
            "\n",
            "Before we get into the meat of the thing, a quick reminder that TC City Spotlight: Atlanta is fast approaching. On June 7, TechCrunch is headed to Atlanta, where we’ll host a pitch competition, a talk on the economics of equality, a panel discussion on investing in the Atlanta ecosystem and more.\n",
            "\n",
            "Elsewhere, there’s a TechCrunch Live event with Persona and Index Ventures on May 10, which will touch on how Persona keeps pace with new threats and how Index made a prescient move to spot and back Persona early on. And we have Disrupt in San Francisco from September 19–21 — our annual conference is jam-packed with expert-led sessions and interviews with movers and shakers in the tech space.\n",
            "\n",
            "Now, with that out of the way, here’s the top headlines.\n",
            "\n",
            "most read\n",
            "\n",
            "Amazon debuts free channels: Amazon is doubling down on free, ad-supported content with this week’s introduction of Fire TV Channels. The new, free and ad-supported video experience, which came to Fire TV devices this week, will be continuously updated throughout the day and integrated into several areas across the Fire TV interface, Sarah reports.\n",
            "\n",
            "Bio update for a check: Briefly, a bug on Twitter let legacy blue check holders get their badge back by updating their bio. Readers will recall that blue checks on Twitter once signified that a user was “verified,” but now serve as an indication that they’re paying for Twitter’s premium subscription service, Twitter Blue. Verified users who chose not to pay recently faced the prospect of blue check removal — but not necessarily permanently, judging by the bug.\n",
            "\n",
            "Google ditches passwords for passkeys: This week Google rolled out passkeys to Google Account users globally, roughly a year after the company — alongside Apple, Microsoft and the FIDO Alliance — announced a partnership to broadly advance passkey adoption. With passkeys, users’ authentication synchronizes across devices through the cloud using cryptographic key pairs, allowing them to sign in to websites and apps using the same biometrics or screen-lock PIN they use to unlock their devices.\n",
            "\n",
            "Microsoft debuts Pegasus: Microsoft this week announced that it’ll extend the Startup Founders Hub, its self-service platform that provides founders with free resources, including Azure credits, with a new incubator program called the Pegasus Program. Pegasus will select startups with products that “fill a market need” and give them up to $350,000 in Azure, GitHub and LinkedIn credits plus backing from advisors, as well as “access to the best Microsoft tech,” Microsoft says.\n",
            "\n",
            "Blue check marks come to Gmail: Google is going to start displaying a blue check mark next to select senders’ names on Gmail to verify their identity, the company said on Wednesday. The check marks will automatically appear next to companies that have adopted Gmail’s existing brand indicators for message identification feature, reports Aisha.\n",
            "\n",
            "OpenAI rakes in the dough: OpenAI, the startup behind the widely used conversational AI model ChatGPT, has picked up new backers. In an exclusive report, Jagmeet and Ingrid reveal that VC firms, including Sequoia Capital, Andreessen Horowitz, Thrive, K2 Global and Founders Fund, have put just over $300 million into OpenAI, valuing the company at between $27 billion and $29 billion.\n",
            "\n",
            "Apple releases security fix: On Monday, Apple released its first batch of publicly available “rapid security” patches, aimed at quickly fixing security vulnerabilities that are under active exploitation or pose significant risks to its customers. Apple says that these patches, which are enabled by default, were intended to let customers update their devices faster than a typical software upgrade.\n",
            "\n",
            "Musk settles for less: A defamation case brought against Tesla chief executive Elon Musk by critic Randeep Hothi is coming to a close, reportedly costing the billionaire ten big ones. Lawyers representing Hothi — a vocal member of the TSLAQ short-seller community on Twitter who rose to prominence as a skeptic of Tesla’s gigafactory plans and “full self-driving” tech — said in a statement that Musk asked to settle the nearly three-year-old case back in March.\n",
            "\n",
            "A new LLM for Alexa: Amazon is building a more “generalized and capable” large language model to power Alexa, said Amazon CEO Andy Jassy during the company’s first-quarter earnings call this week. He added that although Amazon has had an LLM powering Alexa, Amazon is working on one that’s more capable than the current one.\n",
            "\n",
            "audio\n",
            "\n",
            "TechCrunch’s stable of podcasts grows by the day — and it’s all quality stuff. This week, the Equity folks covered First Republic Bank, Poparazzi’s shutdown, Databricks’ acquisition, who’s going head-to-head with Stripe, the rise of down rounds and why Bluesky had them feeling less gray. Meanwhile, Found spoke with Stefan Bauer about how his company, Marker Learning, is cutting the cost of learning disability assessments by conducting them remotely. Chain Reaction interviewed Jake Chervinsky, the chief policy officer at Blockchain Association, a nonprofit organization focused on promoting “pro-innovation” policy for the digital asset world. On The TechCrunch Podcast — which, like WiR, covers the week in tech news — Devin talked about whether Meta’s cavalier approach to compliance might finally be coming to a close. And last but not least, TechCrunch Live profiled Sam Chaudhary, the founder of ClassDojo, and Chris Farmer, the founder and CEO of SignalFire, about playing the long game in edtech, investing in companies that aren’t rushing to monetize and the “outsider advantage.”\n",
            "\n",
            "TechCrunch+\n",
            "\n",
            "TC+ subscribers get access to in-depth commentary, analysis and surveys — which you know if you’re already a subscriber. If you’re not, consider signing up. Here are a few highlights from this week:\n",
            "\n",
            "A cloudy future: Lyft’s equity is selling off in the wake of the U.S. ride-hailing giant’s first-quarter results and its comments regarding the current quarter, and how its new strategic posture will affect its growth and economics in the coming quarters. But there’s not necessarily cause for panic. Alex and Anna write about Lyft’s new tack and the potential upsides, of which there are several.\n",
            "\n",
            "Down but not out: For the past year, everyone’s been predicting that the muted exit environment and bone-dry funding market would bring a reckoning for many late-stage companies. Down rounds carry a negative connotation and are often interpreted as the fault of the company or founder. But in a market where everything seems to be heading downward, they shouldn’t imply a company or its founders made a mistake — you often simply can’t help it, Rebecca writes.\n",
            "\n",
            "ChatGPT, meet edtech: Shares of edtech company Chegg fell off a cliff this week even after the company reported Q1 results that bested analyst expectations. In its earnings call, the company’s executives noted that ChatGPT was slowing its ability to add new subscribers, not only potentially slowing growth but also throwing uncertainty into its ability to predict its future financial results. Alex and Natasha M dig deeper.\n",
            "\n",
            "Get your TechCrunch fix IRL. Join us at Disrupt 2023 in San Francisco this September to immerse yourself in all things startup. From headline interviews to intimate roundtables to a jam-packed startup expo floor, there’s something for everyone at Disrupt. Save up to $800 when you buy your pass now through May 15, and save 15% on top of that with promo code WIR. Learn more.\n"
          ]
        },
        {
          "output_type": "execute_result",
          "data": {
            "text/plain": [
              "(21, None)"
            ]
          },
          "metadata": {},
          "execution_count": 16
        }
      ]
    },
    {
      "cell_type": "code",
      "source": [
        "# creating chunks\n",
        "from langchain.text_splitter import RecursiveCharacterTextSplitter\n",
        "\n",
        "RecursiveCharacterTextSplitter(\n",
        "\n",
        ")\n"
      ],
      "metadata": {
        "id": "wMkrXQh-v-QO"
      },
      "execution_count": null,
      "outputs": []
    },
    {
      "cell_type": "code",
      "source": [],
      "metadata": {
        "id": "4RF43Oz5v-S4"
      },
      "execution_count": null,
      "outputs": []
    },
    {
      "cell_type": "code",
      "source": [],
      "metadata": {
        "id": "8fcLE7h-v-VG"
      },
      "execution_count": null,
      "outputs": []
    },
    {
      "cell_type": "code",
      "source": [],
      "metadata": {
        "id": "UH6WzITKv-Y3"
      },
      "execution_count": null,
      "outputs": []
    },
    {
      "cell_type": "code",
      "source": [],
      "metadata": {
        "id": "_R-ZpzxHf57g"
      },
      "execution_count": 3,
      "outputs": []
    }
  ]
}