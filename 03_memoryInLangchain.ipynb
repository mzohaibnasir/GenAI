{
  "cells": [
    {
      "cell_type": "markdown",
      "metadata": {
        "id": "view-in-github",
        "colab_type": "text"
      },
      "source": [
        "<a href=\"https://colab.research.google.com/github/mzohaibnasir/GenAI/blob/main/03_memoryInLangchain.ipynb\" target=\"_parent\"><img src=\"https://colab.research.google.com/assets/colab-badge.svg\" alt=\"Open In Colab\"/></a>"
      ]
    },
    {
      "cell_type": "code",
      "execution_count": null,
      "metadata": {
        "id": "BVxjJaiKiKBc"
      },
      "outputs": [],
      "source": [
        "! pip install langchain\n",
        "! pip install openai"
      ]
    },
    {
      "cell_type": "code",
      "source": [
        "\n",
        "from google.colab import userdata\n",
        "\n",
        "OPENAIAPIKEY = userdata.get(\"OPENAIAPIKEY\")"
      ],
      "metadata": {
        "id": "d_28oR_UvHnf"
      },
      "execution_count": 4,
      "outputs": []
    },
    {
      "cell_type": "markdown",
      "metadata": {
        "id": "oZ6b6V-QtoMJ"
      },
      "source": [
        "# Memory in langchain :sustain the memory in conversation\n"
      ]
    },
    {
      "cell_type": "code",
      "execution_count": 9,
      "metadata": {
        "id": "7tOHfgwziPIc"
      },
      "outputs": [],
      "source": [
        "from langchain.prompts import PromptTemplate\n",
        "from langchain.chains import LLMChain\n",
        "from langchain.llms import OpenAI\n"
      ]
    },
    {
      "cell_type": "code",
      "execution_count": 10,
      "metadata": {
        "id": "lOoTYMhuiPKQ"
      },
      "outputs": [],
      "source": [
        "client = OpenAI(api_key=OPENAIAPIKEY)"
      ]
    },
    {
      "cell_type": "code",
      "execution_count": 12,
      "metadata": {
        "id": "E0Kq1UpQiPMO",
        "colab": {
          "base_uri": "https://localhost:8080/"
        },
        "outputId": "6b1ef88d-1439-4e09-c439-0463584a5346"
      },
      "outputs": [
        {
          "output_type": "execute_result",
          "data": {
            "text/plain": [
              "PromptTemplate(input_variables=['product'], template='what is a good name for a company that makes {product}')"
            ]
          },
          "metadata": {},
          "execution_count": 12
        }
      ],
      "source": [
        "promptName = PromptTemplate.from_template(\"what is a good name for a company that makes {product}\")\n",
        "promptName"
      ]
    },
    {
      "cell_type": "code",
      "execution_count": 13,
      "metadata": {
        "id": "fJBQnTXQiPOO"
      },
      "outputs": [],
      "source": [
        "# chain to connect multiple components\n",
        "chain=LLMChain(\n",
        "    llm=client,\n",
        "    prompt=promptName\n",
        ")"
      ]
    },
    {
      "cell_type": "code",
      "execution_count": 19,
      "metadata": {
        "id": "ZXI9GSd-iPQV",
        "colab": {
          "base_uri": "https://localhost:8080/"
        },
        "outputId": "9e0635bb-3625-43cc-82ab-914d37aa3f39"
      },
      "outputs": [
        {
          "output_type": "execute_result",
          "data": {
            "text/plain": [
              "{'product': 'jokes',\n",
              " 'text': '\\n\\n1. \"Laugh Factory Co.\"\\n2. \"Pun-tastic Inc.\"\\n3. \"Giggles and Grins Co.\"\\n4. \"Jokester Enterprises\"\\n5. \"Haha Productions\"\\n6. \"Witty Enterprises\"\\n7. \"Comedy Co.\"\\n8. \"Humor HQ\"\\n9. \"Smile Inc.\"\\n10. \"The Joke Company\"'}"
            ]
          },
          "metadata": {},
          "execution_count": 19
        }
      ],
      "source": [
        "chain.invoke(\"jokes\")"
      ]
    },
    {
      "cell_type": "code",
      "execution_count": 20,
      "metadata": {
        "id": "ffWIdutwiPSH",
        "colab": {
          "base_uri": "https://localhost:8080/"
        },
        "outputId": "12416470-5bd2-4937-fcd8-4945200a4889"
      },
      "outputs": [
        {
          "output_type": "execute_result",
          "data": {
            "text/plain": [
              "{'product': 'f1 cars', 'text': '\\n\\n\"Velocity Racing Engineering\" '}"
            ]
          },
          "metadata": {},
          "execution_count": 20
        }
      ],
      "source": [
        "# chain to connect multiple components\n",
        "chain=LLMChain(\n",
        "    llm=client,\n",
        "    prompt=promptName\n",
        ")\n",
        "chain.invoke(\"f1 cars\")"
      ]
    },
    {
      "cell_type": "code",
      "source": [
        "chain.memory"
      ],
      "metadata": {
        "id": "DZwhjDkHyF0d"
      },
      "execution_count": 21,
      "outputs": []
    },
    {
      "cell_type": "code",
      "source": [
        "type(chain.memory)  # NoneTypemean not going to sustain anything here"
      ],
      "metadata": {
        "colab": {
          "base_uri": "https://localhost:8080/"
        },
        "id": "N4CYjPdVyF21",
        "outputId": "5dd22e57-2459-46ef-dde8-b40dd18b53e9"
      },
      "execution_count": 23,
      "outputs": [
        {
          "output_type": "execute_result",
          "data": {
            "text/plain": [
              "NoneType"
            ]
          },
          "metadata": {},
          "execution_count": 23
        }
      ]
    },
    {
      "cell_type": "markdown",
      "source": [
        "## but how to sustain memory\n",
        "\n",
        "# ConversationBufferMemory\n",
        " we can attatch memory to remember all previous convos\n",
        ""
      ],
      "metadata": {
        "id": "lKTYBPrCyYtj"
      }
    },
    {
      "cell_type": "code",
      "source": [],
      "metadata": {
        "id": "rtEpGR3wyF7E"
      },
      "execution_count": null,
      "outputs": []
    },
    {
      "cell_type": "code",
      "source": [],
      "metadata": {
        "id": "c6hVDRp2yGBU"
      },
      "execution_count": null,
      "outputs": []
    },
    {
      "cell_type": "code",
      "source": [],
      "metadata": {
        "id": "weeONLDXyGDv"
      },
      "execution_count": null,
      "outputs": []
    },
    {
      "cell_type": "code",
      "source": [],
      "metadata": {
        "id": "ziYyFFcbyGGF"
      },
      "execution_count": null,
      "outputs": []
    },
    {
      "cell_type": "code",
      "source": [],
      "metadata": {
        "id": "bRoV-MiSyGIU"
      },
      "execution_count": null,
      "outputs": []
    },
    {
      "cell_type": "code",
      "source": [],
      "metadata": {
        "id": "_ma6YeG8yGK0"
      },
      "execution_count": null,
      "outputs": []
    },
    {
      "cell_type": "code",
      "source": [],
      "metadata": {
        "id": "KDNviO0uyGM1"
      },
      "execution_count": null,
      "outputs": []
    },
    {
      "cell_type": "code",
      "source": [],
      "metadata": {
        "id": "KdRzx-LhyGRT"
      },
      "execution_count": null,
      "outputs": []
    },
    {
      "cell_type": "code",
      "source": [],
      "metadata": {
        "id": "g9pRds90yGTu"
      },
      "execution_count": null,
      "outputs": []
    },
    {
      "cell_type": "code",
      "source": [],
      "metadata": {
        "id": "zVNlA78oyGVz"
      },
      "execution_count": null,
      "outputs": []
    },
    {
      "cell_type": "code",
      "source": [],
      "metadata": {
        "id": "Uwr2WO0LyGX8"
      },
      "execution_count": null,
      "outputs": []
    },
    {
      "cell_type": "code",
      "source": [],
      "metadata": {
        "id": "ZkypWuymyGZ7"
      },
      "execution_count": null,
      "outputs": []
    },
    {
      "cell_type": "code",
      "source": [],
      "metadata": {
        "id": "5mL1i4bnyGcB"
      },
      "execution_count": null,
      "outputs": []
    },
    {
      "cell_type": "code",
      "source": [],
      "metadata": {
        "id": "SRrzUFwayGd1"
      },
      "execution_count": null,
      "outputs": []
    },
    {
      "cell_type": "code",
      "source": [],
      "metadata": {
        "id": "KnTgxwgvyGi7"
      },
      "execution_count": null,
      "outputs": []
    },
    {
      "cell_type": "code",
      "source": [],
      "metadata": {
        "id": "DEeQSZm6yGl7"
      },
      "execution_count": null,
      "outputs": []
    },
    {
      "cell_type": "code",
      "execution_count": null,
      "metadata": {
        "id": "MYxsMkn5iPUV"
      },
      "outputs": [],
      "source": []
    }
  ],
  "metadata": {
    "colab": {
      "provenance": [],
      "include_colab_link": true
    },
    "kernelspec": {
      "display_name": "Python 3",
      "name": "python3"
    },
    "language_info": {
      "name": "python"
    }
  },
  "nbformat": 4,
  "nbformat_minor": 0
}