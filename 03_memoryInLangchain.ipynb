{
  "cells": [
    {
      "cell_type": "markdown",
      "metadata": {
        "id": "view-in-github",
        "colab_type": "text"
      },
      "source": [
        "<a href=\"https://colab.research.google.com/github/mzohaibnasir/GenAI/blob/main/03_memoryInLangchain.ipynb\" target=\"_parent\"><img src=\"https://colab.research.google.com/assets/colab-badge.svg\" alt=\"Open In Colab\"/></a>"
      ]
    },
    {
      "cell_type": "code",
      "execution_count": null,
      "metadata": {
        "id": "BVxjJaiKiKBc"
      },
      "outputs": [],
      "source": [
        "! pip install langchain\n",
        "! pip install openai"
      ]
    },
    {
      "cell_type": "code",
      "source": [
        "\n",
        "from google.colab import userdata\n",
        "\n",
        "OPENAIAPIKEY = userdata.get(\"OPENAIAPIKEY\")"
      ],
      "metadata": {
        "id": "d_28oR_UvHnf"
      },
      "execution_count": 4,
      "outputs": []
    },
    {
      "cell_type": "markdown",
      "metadata": {
        "id": "oZ6b6V-QtoMJ"
      },
      "source": [
        "# Memory in langchain :sustain the memory in conversation\n"
      ]
    },
    {
      "cell_type": "code",
      "execution_count": 9,
      "metadata": {
        "id": "7tOHfgwziPIc"
      },
      "outputs": [],
      "source": [
        "from langchain.prompts import PromptTemplate\n",
        "from langchain.chains import LLMChain\n",
        "from langchain.llms import OpenAI\n"
      ]
    },
    {
      "cell_type": "code",
      "execution_count": 10,
      "metadata": {
        "id": "lOoTYMhuiPKQ"
      },
      "outputs": [],
      "source": [
        "client = OpenAI(api_key=OPENAIAPIKEY)"
      ]
    },
    {
      "cell_type": "code",
      "execution_count": 12,
      "metadata": {
        "id": "E0Kq1UpQiPMO",
        "colab": {
          "base_uri": "https://localhost:8080/"
        },
        "outputId": "6b1ef88d-1439-4e09-c439-0463584a5346"
      },
      "outputs": [
        {
          "output_type": "execute_result",
          "data": {
            "text/plain": [
              "PromptTemplate(input_variables=['product'], template='what is a good name for a company that makes {product}')"
            ]
          },
          "metadata": {},
          "execution_count": 12
        }
      ],
      "source": [
        "promptName = PromptTemplate.from_template(\"what is a good name for a company that makes {product}\")\n",
        "promptName"
      ]
    },
    {
      "cell_type": "code",
      "execution_count": 13,
      "metadata": {
        "id": "fJBQnTXQiPOO"
      },
      "outputs": [],
      "source": [
        "# chain to connect multiple components\n",
        "chain=LLMChain(\n",
        "    llm=client,\n",
        "    prompt=promptName\n",
        ")"
      ]
    },
    {
      "cell_type": "code",
      "execution_count": 19,
      "metadata": {
        "id": "ZXI9GSd-iPQV",
        "colab": {
          "base_uri": "https://localhost:8080/"
        },
        "outputId": "9e0635bb-3625-43cc-82ab-914d37aa3f39"
      },
      "outputs": [
        {
          "output_type": "execute_result",
          "data": {
            "text/plain": [
              "{'product': 'jokes',\n",
              " 'text': '\\n\\n1. \"Laugh Factory Co.\"\\n2. \"Pun-tastic Inc.\"\\n3. \"Giggles and Grins Co.\"\\n4. \"Jokester Enterprises\"\\n5. \"Haha Productions\"\\n6. \"Witty Enterprises\"\\n7. \"Comedy Co.\"\\n8. \"Humor HQ\"\\n9. \"Smile Inc.\"\\n10. \"The Joke Company\"'}"
            ]
          },
          "metadata": {},
          "execution_count": 19
        }
      ],
      "source": [
        "chain.invoke(\"jokes\")"
      ]
    },
    {
      "cell_type": "code",
      "execution_count": 20,
      "metadata": {
        "id": "ffWIdutwiPSH",
        "colab": {
          "base_uri": "https://localhost:8080/"
        },
        "outputId": "12416470-5bd2-4937-fcd8-4945200a4889"
      },
      "outputs": [
        {
          "output_type": "execute_result",
          "data": {
            "text/plain": [
              "{'product': 'f1 cars', 'text': '\\n\\n\"Velocity Racing Engineering\" '}"
            ]
          },
          "metadata": {},
          "execution_count": 20
        }
      ],
      "source": [
        "# chain to connect multiple components\n",
        "chain=LLMChain(\n",
        "    llm=client,\n",
        "    prompt=promptName\n",
        ")\n",
        "chain.invoke(\"f1 cars\")"
      ]
    },
    {
      "cell_type": "code",
      "source": [
        "chain.memory"
      ],
      "metadata": {
        "id": "DZwhjDkHyF0d"
      },
      "execution_count": 21,
      "outputs": []
    },
    {
      "cell_type": "code",
      "source": [
        "type(chain.memory)  # NoneTypemean not going to sustain anything here"
      ],
      "metadata": {
        "colab": {
          "base_uri": "https://localhost:8080/"
        },
        "id": "N4CYjPdVyF21",
        "outputId": "5dd22e57-2459-46ef-dde8-b40dd18b53e9"
      },
      "execution_count": 23,
      "outputs": [
        {
          "output_type": "execute_result",
          "data": {
            "text/plain": [
              "NoneType"
            ]
          },
          "metadata": {},
          "execution_count": 23
        }
      ]
    },
    {
      "cell_type": "markdown",
      "source": [
        "## but how to sustain memory\n",
        "\n",
        "# ConversationBufferMemory\n",
        " we can attatch memory to remember all previous convos\n",
        "we can do this by adding `memory` parameter"
      ],
      "metadata": {
        "id": "lKTYBPrCyYtj"
      }
    },
    {
      "cell_type": "code",
      "source": [
        "\n",
        "from langchain.memory import ConversationBufferMemory"
      ],
      "metadata": {
        "id": "rtEpGR3wyF7E"
      },
      "execution_count": 24,
      "outputs": []
    },
    {
      "cell_type": "code",
      "source": [
        "memory = ConversationBufferMemory()"
      ],
      "metadata": {
        "id": "c6hVDRp2yGBU"
      },
      "execution_count": 25,
      "outputs": []
    },
    {
      "cell_type": "code",
      "source": [
        "promptName = PromptTemplate.from_template(\"what is a good name for a company that makes {product}\")\n",
        "promptName"
      ],
      "metadata": {
        "colab": {
          "base_uri": "https://localhost:8080/"
        },
        "id": "weeONLDXyGDv",
        "outputId": "88c1f915-bbaa-47e2-f3be-fa5d9771e3b3"
      },
      "execution_count": 26,
      "outputs": [
        {
          "output_type": "execute_result",
          "data": {
            "text/plain": [
              "PromptTemplate(input_variables=['product'], template='what is a good name for a company that makes {product}')"
            ]
          },
          "metadata": {},
          "execution_count": 26
        }
      ]
    },
    {
      "cell_type": "code",
      "source": [
        "# chain to connect multiple components\n",
        "chain=LLMChain(\n",
        "    llm=client,\n",
        "    prompt=promptName,\n",
        "    memory=memory\n",
        "\n",
        ")\n",
        "chain.invoke(\"f1 cars\")"
      ],
      "metadata": {
        "colab": {
          "base_uri": "https://localhost:8080/"
        },
        "id": "ziYyFFcbyGGF",
        "outputId": "be9f3e65-1273-4309-e3d8-fe676ef43c6e"
      },
      "execution_count": 27,
      "outputs": [
        {
          "output_type": "execute_result",
          "data": {
            "text/plain": [
              "{'product': 'f1 cars',\n",
              " 'history': '',\n",
              " 'text': '\\n\\n\"Velocity Racing Engineering\" or \"Apex Performance Motorsports\" or \"Carbonworks Motorsports\"'}"
            ]
          },
          "metadata": {},
          "execution_count": 27
        }
      ]
    },
    {
      "cell_type": "code",
      "source": [
        "chain.invoke(\"camera\")"
      ],
      "metadata": {
        "colab": {
          "base_uri": "https://localhost:8080/"
        },
        "id": "bRoV-MiSyGIU",
        "outputId": "7d784743-c9a2-4773-ebe4-c31457fdf6bf"
      },
      "execution_count": 28,
      "outputs": [
        {
          "output_type": "execute_result",
          "data": {
            "text/plain": [
              "{'product': 'camera',\n",
              " 'history': 'Human: f1 cars\\nAI: \\n\\n\"Velocity Racing Engineering\" or \"Apex Performance Motorsports\" or \"Carbonworks Motorsports\"',\n",
              " 'text': '\\n\\n1. FocusTech\\n2. SnapVision\\n3. ShutterWorks\\n4. LensCrafters \\n5. CaptureCo \\n6. ProCam Solutions \\n7. ImageMakers \\n8. PixelPerfect \\n9. FrameForge \\n10. SnapShot Innovations'}"
            ]
          },
          "metadata": {},
          "execution_count": 28
        }
      ]
    },
    {
      "cell_type": "code",
      "source": [
        "chain.invoke(\"Drone\")"
      ],
      "metadata": {
        "colab": {
          "base_uri": "https://localhost:8080/"
        },
        "id": "_ma6YeG8yGK0",
        "outputId": "49dc57d9-903a-4c39-caad-9497a3c70946"
      },
      "execution_count": 29,
      "outputs": [
        {
          "output_type": "execute_result",
          "data": {
            "text/plain": [
              "{'product': 'Drone',\n",
              " 'history': 'Human: f1 cars\\nAI: \\n\\n\"Velocity Racing Engineering\" or \"Apex Performance Motorsports\" or \"Carbonworks Motorsports\"\\nHuman: camera\\nAI: \\n\\n1. FocusTech\\n2. SnapVision\\n3. ShutterWorks\\n4. LensCrafters \\n5. CaptureCo \\n6. ProCam Solutions \\n7. ImageMakers \\n8. PixelPerfect \\n9. FrameForge \\n10. SnapShot Innovations',\n",
              " 'text': '\\n\\n1. SkyTech Drones\\n2. AeroVision Industries\\n3. FlightForce Solutions\\n4. DroneWorks Co.\\n5. Airborne Innovations\\n6. Precision Flight Technologies\\n7. SkyHigh Aerials\\n8. Horizon Drones\\n9. Winged Tech Inc.\\n10. Propeller Producers'}"
            ]
          },
          "metadata": {},
          "execution_count": 29
        }
      ]
    },
    {
      "cell_type": "code",
      "source": [
        "chain.memory"
      ],
      "metadata": {
        "colab": {
          "base_uri": "https://localhost:8080/"
        },
        "id": "KDNviO0uyGM1",
        "outputId": "22b4f22b-30b9-4b21-87c4-4d752f490f9b"
      },
      "execution_count": 30,
      "outputs": [
        {
          "output_type": "execute_result",
          "data": {
            "text/plain": [
              "ConversationBufferMemory(chat_memory=ChatMessageHistory(messages=[HumanMessage(content='f1 cars'), AIMessage(content='\\n\\n\"Velocity Racing Engineering\" or \"Apex Performance Motorsports\" or \"Carbonworks Motorsports\"'), HumanMessage(content='camera'), AIMessage(content='\\n\\n1. FocusTech\\n2. SnapVision\\n3. ShutterWorks\\n4. LensCrafters \\n5. CaptureCo \\n6. ProCam Solutions \\n7. ImageMakers \\n8. PixelPerfect \\n9. FrameForge \\n10. SnapShot Innovations'), HumanMessage(content='Drone'), AIMessage(content='\\n\\n1. SkyTech Drones\\n2. AeroVision Industries\\n3. FlightForce Solutions\\n4. DroneWorks Co.\\n5. Airborne Innovations\\n6. Precision Flight Technologies\\n7. SkyHigh Aerials\\n8. Horizon Drones\\n9. Winged Tech Inc.\\n10. Propeller Producers')]))"
            ]
          },
          "metadata": {},
          "execution_count": 30
        }
      ]
    },
    {
      "cell_type": "code",
      "source": [
        "print(chain.memory.buffer)"
      ],
      "metadata": {
        "colab": {
          "base_uri": "https://localhost:8080/"
        },
        "id": "KdRzx-LhyGRT",
        "outputId": "5a72d616-d63e-43ec-9713-b9395509a5b0"
      },
      "execution_count": 36,
      "outputs": [
        {
          "output_type": "stream",
          "name": "stdout",
          "text": [
            "Human: f1 cars\n",
            "AI: \n",
            "\n",
            "\"Velocity Racing Engineering\" or \"Apex Performance Motorsports\" or \"Carbonworks Motorsports\"\n",
            "Human: camera\n",
            "AI: \n",
            "\n",
            "1. FocusTech\n",
            "2. SnapVision\n",
            "3. ShutterWorks\n",
            "4. LensCrafters \n",
            "5. CaptureCo \n",
            "6. ProCam Solutions \n",
            "7. ImageMakers \n",
            "8. PixelPerfect \n",
            "9. FrameForge \n",
            "10. SnapShot Innovations\n",
            "Human: Drone\n",
            "AI: \n",
            "\n",
            "1. SkyTech Drones\n",
            "2. AeroVision Industries\n",
            "3. FlightForce Solutions\n",
            "4. DroneWorks Co.\n",
            "5. Airborne Innovations\n",
            "6. Precision Flight Technologies\n",
            "7. SkyHigh Aerials\n",
            "8. Horizon Drones\n",
            "9. Winged Tech Inc.\n",
            "10. Propeller Producers\n"
          ]
        }
      ]
    },
    {
      "cell_type": "code",
      "source": [],
      "metadata": {
        "id": "g9pRds90yGTu"
      },
      "execution_count": null,
      "outputs": []
    },
    {
      "cell_type": "markdown",
      "source": [
        "Using `ConversationBufferMemory` we were able to retain .\n",
        "ConversationBufferMemory: This is a straightforward conversational memory in LangChain that stores the raw input of past conversations between a human and an AI. It allows conversations to grow with each turn and enables users to view the entire conversation history at any time1\n",
        "4\n",
        ". It is used for storing conversation memory and can be initialized to interact with conversational agents by inputting prompts4\n",
        ".\n",
        "\n",
        "\n",
        "\n",
        "\n",
        "but with\n",
        "\n",
        "# ConversationChain: we can replicate what chatgpt does\n",
        "\n",
        "ConversationChain: ConversationChain is a framework that allows for the implementation of conversational memory. It is built on top of ConversationBufferMemory and other types of conversational memory. ConversationChain uses parameters like {history} and {input} to facilitate interactions between humans and AI, enabling the model to predict the continuation of conversations based on past interactions\n",
        "\n",
        "\n",
        "## conversationBufferMemory grows endlessly.\n",
        "\n",
        "to remember last 5 convos only:"
      ],
      "metadata": {
        "id": "0l-8pIxU2EmP"
      }
    },
    {
      "cell_type": "code",
      "source": [
        "from langchain.chains import ConversationChain\n",
        "convo = ConversationChain(\n",
        "    llm= OpenAI(api_key=OPENAIAPIKEY,\n",
        "                temperature=0.7)\n",
        "\n",
        ")\n",
        "# convo"
      ],
      "metadata": {
        "id": "oc7isLXj2lDE"
      },
      "execution_count": 48,
      "outputs": []
    },
    {
      "cell_type": "code",
      "source": [
        "convo.prompt"
      ],
      "metadata": {
        "colab": {
          "base_uri": "https://localhost:8080/"
        },
        "id": "d1m8EztF2lFJ",
        "outputId": "4b163d64-9975-47fe-b703-d1f1fb1edde8"
      },
      "execution_count": 49,
      "outputs": [
        {
          "output_type": "execute_result",
          "data": {
            "text/plain": [
              "PromptTemplate(input_variables=['history', 'input'], template='The following is a friendly conversation between a human and an AI. The AI is talkative and provides lots of specific details from its context. If the AI does not know the answer to a question, it truthfully says it does not know.\\n\\nCurrent conversation:\\n{history}\\nHuman: {input}\\nAI:')"
            ]
          },
          "metadata": {},
          "execution_count": 49
        }
      ]
    },
    {
      "cell_type": "code",
      "source": [
        "print(convo.prompt.template)"
      ],
      "metadata": {
        "colab": {
          "base_uri": "https://localhost:8080/"
        },
        "id": "qi6IVQpO2lH8",
        "outputId": "1b808a53-54dd-40e8-d069-d33e7c20dae6"
      },
      "execution_count": 50,
      "outputs": [
        {
          "output_type": "stream",
          "name": "stdout",
          "text": [
            "The following is a friendly conversation between a human and an AI. The AI is talkative and provides lots of specific details from its context. If the AI does not know the answer to a question, it truthfully says it does not know.\n",
            "\n",
            "Current conversation:\n",
            "{history}\n",
            "Human: {input}\n",
            "AI:\n"
          ]
        }
      ]
    },
    {
      "cell_type": "code",
      "source": [
        "convo.invoke(\"Who won first cricket worlcup\")"
      ],
      "metadata": {
        "colab": {
          "base_uri": "https://localhost:8080/"
        },
        "id": "yTwTex5y2lJq",
        "outputId": "e59bd0c5-2428-4578-818e-dba60210b6a3"
      },
      "execution_count": 51,
      "outputs": [
        {
          "output_type": "execute_result",
          "data": {
            "text/plain": [
              "{'input': 'Who won first cricket worlcup',\n",
              " 'history': '',\n",
              " 'response': ' The first cricket world cup was held in 1975 and was won by the West Indies team. The final match was played between West Indies and Australia, with West Indies winning by 17 runs. The Man of the Match was Clive Lloyd from the West Indies team.'}"
            ]
          },
          "metadata": {},
          "execution_count": 51
        }
      ]
    },
    {
      "cell_type": "code",
      "source": [
        "convo.invoke(\"5+5\")"
      ],
      "metadata": {
        "colab": {
          "base_uri": "https://localhost:8080/"
        },
        "id": "zVNlA78oyGVz",
        "outputId": "8628d863-9a54-48b6-da4e-5c4379db83a4"
      },
      "execution_count": 52,
      "outputs": [
        {
          "output_type": "execute_result",
          "data": {
            "text/plain": [
              "{'input': '5+5',\n",
              " 'history': 'Human: Who won first cricket worlcup\\nAI:  The first cricket world cup was held in 1975 and was won by the West Indies team. The final match was played between West Indies and Australia, with West Indies winning by 17 runs. The Man of the Match was Clive Lloyd from the West Indies team.',\n",
              " 'response': ' 5+5 is equal to 10.'}"
            ]
          },
          "metadata": {},
          "execution_count": 52
        }
      ]
    },
    {
      "cell_type": "code",
      "source": [
        "convo.memory"
      ],
      "metadata": {
        "colab": {
          "base_uri": "https://localhost:8080/"
        },
        "id": "DzWLyNZU3810",
        "outputId": "5f1c6de2-1e2e-4e1e-f3b7-c51bfbba7d40"
      },
      "execution_count": 54,
      "outputs": [
        {
          "output_type": "execute_result",
          "data": {
            "text/plain": [
              "ConversationBufferMemory(chat_memory=ChatMessageHistory(messages=[HumanMessage(content='Who won first cricket worlcup'), AIMessage(content=' The first cricket world cup was held in 1975 and was won by the West Indies team. The final match was played between West Indies and Australia, with West Indies winning by 17 runs. The Man of the Match was Clive Lloyd from the West Indies team.'), HumanMessage(content='5+5'), AIMessage(content=' 5+5 is equal to 10.')]))"
            ]
          },
          "metadata": {},
          "execution_count": 54
        }
      ]
    },
    {
      "cell_type": "code",
      "source": [
        "convo.invoke(\"what would be 5*5\")"
      ],
      "metadata": {
        "colab": {
          "base_uri": "https://localhost:8080/"
        },
        "id": "jlzny_Lw385D",
        "outputId": "231d5512-f11f-43c5-8273-a20509b2a044"
      },
      "execution_count": 55,
      "outputs": [
        {
          "output_type": "execute_result",
          "data": {
            "text/plain": [
              "{'input': 'what would be 5*5',\n",
              " 'history': 'Human: Who won first cricket worlcup\\nAI:  The first cricket world cup was held in 1975 and was won by the West Indies team. The final match was played between West Indies and Australia, with West Indies winning by 17 runs. The Man of the Match was Clive Lloyd from the West Indies team.\\nHuman: 5+5\\nAI:  5+5 is equal to 10.',\n",
              " 'response': ' 5*5 is equal to 25.'}"
            ]
          },
          "metadata": {},
          "execution_count": 55
        }
      ]
    },
    {
      "cell_type": "code",
      "source": [
        "convo.invoke(\"who was captain of winning team?\")"
      ],
      "metadata": {
        "colab": {
          "base_uri": "https://localhost:8080/"
        },
        "id": "5HCvOdn5387r",
        "outputId": "87f232d9-ece1-46ee-8313-7e81a76a5c91"
      },
      "execution_count": 56,
      "outputs": [
        {
          "output_type": "execute_result",
          "data": {
            "text/plain": [
              "{'input': 'who was captain of winning team?',\n",
              " 'history': 'Human: Who won first cricket worlcup\\nAI:  The first cricket world cup was held in 1975 and was won by the West Indies team. The final match was played between West Indies and Australia, with West Indies winning by 17 runs. The Man of the Match was Clive Lloyd from the West Indies team.\\nHuman: 5+5\\nAI:  5+5 is equal to 10.\\nHuman: what would be 5*5\\nAI:  5*5 is equal to 25.',\n",
              " 'response': ' The captain of the winning West Indies team in the first cricket world cup was Clive Lloyd. He was also named the Man of the Match for his outstanding performance in the final match.'}"
            ]
          },
          "metadata": {},
          "execution_count": 56
        }
      ]
    },
    {
      "cell_type": "code",
      "source": [],
      "metadata": {
        "id": "2DchhPL038-I"
      },
      "execution_count": null,
      "outputs": []
    },
    {
      "cell_type": "markdown",
      "source": [
        "# Conversation BufferWindowMemory:\n",
        "\n",
        "parameter k: key =4\n",
        "\n",
        "\n",
        "wondow size for remembering memory till k prmopt\n",
        "\n",
        "\n"
      ],
      "metadata": {
        "id": "n6ICu6Qd2aqJ"
      }
    },
    {
      "cell_type": "code",
      "source": [
        "from langchain.memory import ConversationBufferWindowMemory"
      ],
      "metadata": {
        "id": "kRksqFFv4bJZ"
      },
      "execution_count": 57,
      "outputs": []
    },
    {
      "cell_type": "code",
      "source": [
        "memory =ConversationBufferWindowMemory(k=2) # k:key\n",
        "\n",
        "\n",
        "convoW = ConversationChain(\n",
        "    llm= OpenAI(api_key=OPENAIAPIKEY,\n",
        "                temperature=0.7),\n",
        "    memory=memory\n",
        "\n",
        ")\n",
        "# convoW"
      ],
      "metadata": {
        "id": "Zozqt11V39A8"
      },
      "execution_count": 71,
      "outputs": []
    },
    {
      "cell_type": "code",
      "source": [
        "print(convoW.prompt.template)"
      ],
      "metadata": {
        "colab": {
          "base_uri": "https://localhost:8080/"
        },
        "id": "rNltuU0U39Ep",
        "outputId": "3efe5796-ff2f-4b64-9583-17e6af601882"
      },
      "execution_count": 72,
      "outputs": [
        {
          "output_type": "stream",
          "name": "stdout",
          "text": [
            "The following is a friendly conversation between a human and an AI. The AI is talkative and provides lots of specific details from its context. If the AI does not know the answer to a question, it truthfully says it does not know.\n",
            "\n",
            "Current conversation:\n",
            "{history}\n",
            "Human: {input}\n",
            "AI:\n"
          ]
        }
      ]
    },
    {
      "cell_type": "code",
      "source": [
        "convoW.invoke(\"Who won first cricket worlcup\")"
      ],
      "metadata": {
        "colab": {
          "base_uri": "https://localhost:8080/"
        },
        "id": "Uwr2WO0LyGX8",
        "outputId": "b3f553e3-6786-4751-d179-ec0609a01dcb"
      },
      "execution_count": 73,
      "outputs": [
        {
          "output_type": "execute_result",
          "data": {
            "text/plain": [
              "{'input': 'Who won first cricket worlcup',\n",
              " 'history': '',\n",
              " 'response': ' The first cricket World Cup was won by the West Indies in 1975.'}"
            ]
          },
          "metadata": {},
          "execution_count": 73
        }
      ]
    },
    {
      "cell_type": "code",
      "source": [
        "convoW.invoke(\"what is 5*5\")"
      ],
      "metadata": {
        "colab": {
          "base_uri": "https://localhost:8080/"
        },
        "id": "ZkypWuymyGZ7",
        "outputId": "b9816570-977c-477c-9322-4843109424bf"
      },
      "execution_count": 74,
      "outputs": [
        {
          "output_type": "execute_result",
          "data": {
            "text/plain": [
              "{'input': 'what is 5*5',\n",
              " 'history': 'Human: Who won first cricket worlcup\\nAI:  The first cricket World Cup was won by the West Indies in 1975.',\n",
              " 'response': '  5*5 is 25.'}"
            ]
          },
          "metadata": {},
          "execution_count": 74
        }
      ]
    },
    {
      "cell_type": "code",
      "source": [
        "convoW.invoke(\"what is 5+5\")"
      ],
      "metadata": {
        "id": "BsTXx-qt9bPo",
        "outputId": "fbb30d55-7377-49ca-94d7-2aa7962ab4ee",
        "colab": {
          "base_uri": "https://localhost:8080/"
        }
      },
      "execution_count": 75,
      "outputs": [
        {
          "output_type": "execute_result",
          "data": {
            "text/plain": [
              "{'input': 'what is 5+5',\n",
              " 'history': 'Human: Who won first cricket worlcup\\nAI:  The first cricket World Cup was won by the West Indies in 1975.\\nHuman: what is 5*5\\nAI:   5*5 is 25.',\n",
              " 'response': '   5+5 is 10.'}"
            ]
          },
          "metadata": {},
          "execution_count": 75
        }
      ]
    },
    {
      "cell_type": "code",
      "source": [
        "convoW.invoke(\"who was captain of winning team?\")"
      ],
      "metadata": {
        "colab": {
          "base_uri": "https://localhost:8080/"
        },
        "id": "5mL1i4bnyGcB",
        "outputId": "5279742d-321f-4255-a303-7a36afb51572"
      },
      "execution_count": 76,
      "outputs": [
        {
          "output_type": "execute_result",
          "data": {
            "text/plain": [
              "{'input': 'who was captain of winning team?',\n",
              " 'history': 'Human: what is 5*5\\nAI:   5*5 is 25.\\nHuman: what is 5+5\\nAI:    5+5 is 10.',\n",
              " 'response': \"   I'm sorry, I do not have enough context to answer that question accurately. Can you provide me with the name of the team or the specific event you are referring to?\"}"
            ]
          },
          "metadata": {},
          "execution_count": 76
        }
      ]
    },
    {
      "cell_type": "code",
      "source": [],
      "metadata": {
        "id": "SRrzUFwayGd1"
      },
      "execution_count": null,
      "outputs": []
    },
    {
      "cell_type": "code",
      "source": [],
      "metadata": {
        "id": "KnTgxwgvyGi7"
      },
      "execution_count": null,
      "outputs": []
    },
    {
      "cell_type": "code",
      "source": [],
      "metadata": {
        "id": "DEeQSZm6yGl7"
      },
      "execution_count": null,
      "outputs": []
    },
    {
      "cell_type": "code",
      "execution_count": null,
      "metadata": {
        "id": "MYxsMkn5iPUV"
      },
      "outputs": [],
      "source": []
    }
  ],
  "metadata": {
    "colab": {
      "provenance": [],
      "include_colab_link": true
    },
    "kernelspec": {
      "display_name": "Python 3",
      "name": "python3"
    },
    "language_info": {
      "name": "python"
    }
  },
  "nbformat": 4,
  "nbformat_minor": 0
}