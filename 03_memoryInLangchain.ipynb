{
  "cells": [
    {
      "cell_type": "markdown",
      "metadata": {
        "id": "view-in-github",
        "colab_type": "text"
      },
      "source": [
        "<a href=\"https://colab.research.google.com/github/mzohaibnasir/GenAI/blob/main/03_memoryInLangchain.ipynb\" target=\"_parent\"><img src=\"https://colab.research.google.com/assets/colab-badge.svg\" alt=\"Open In Colab\"/></a>"
      ]
    },
    {
      "cell_type": "code",
      "execution_count": null,
      "metadata": {
        "id": "BVxjJaiKiKBc"
      },
      "outputs": [],
      "source": [
        "! pip install langchain\n",
        "! pip install openai"
      ]
    },
    {
      "cell_type": "code",
      "source": [
        "\n",
        "from google.colab import userdata\n",
        "\n",
        "OPENAIAPIKEY = userdata.get(\"OPENAIAPIKEY\")"
      ],
      "metadata": {
        "id": "d_28oR_UvHnf"
      },
      "execution_count": 4,
      "outputs": []
    },
    {
      "cell_type": "markdown",
      "metadata": {
        "id": "oZ6b6V-QtoMJ"
      },
      "source": [
        "# Memory in langchain :sustain the memory in conversation\n"
      ]
    },
    {
      "cell_type": "code",
      "execution_count": 9,
      "metadata": {
        "id": "7tOHfgwziPIc"
      },
      "outputs": [],
      "source": [
        "from langchain.prompts import PromptTemplate\n",
        "from langchain.chains import LLMChain\n",
        "from langchain.llms import OpenAI\n"
      ]
    },
    {
      "cell_type": "code",
      "execution_count": 10,
      "metadata": {
        "id": "lOoTYMhuiPKQ"
      },
      "outputs": [],
      "source": [
        "client = OpenAI(api_key=OPENAIAPIKEY)"
      ]
    },
    {
      "cell_type": "code",
      "execution_count": 12,
      "metadata": {
        "id": "E0Kq1UpQiPMO",
        "colab": {
          "base_uri": "https://localhost:8080/"
        },
        "outputId": "6b1ef88d-1439-4e09-c439-0463584a5346"
      },
      "outputs": [
        {
          "output_type": "execute_result",
          "data": {
            "text/plain": [
              "PromptTemplate(input_variables=['product'], template='what is a good name for a company that makes {product}')"
            ]
          },
          "metadata": {},
          "execution_count": 12
        }
      ],
      "source": [
        "promptName = PromptTemplate.from_template(\"what is a good name for a company that makes {product}\")\n",
        "promptName"
      ]
    },
    {
      "cell_type": "code",
      "execution_count": 13,
      "metadata": {
        "id": "fJBQnTXQiPOO"
      },
      "outputs": [],
      "source": [
        "# chain to connect multiple components\n",
        "chain=LLMChain(\n",
        "    llm=client,\n",
        "    prompt=promptName\n",
        ")"
      ]
    },
    {
      "cell_type": "code",
      "execution_count": 19,
      "metadata": {
        "id": "ZXI9GSd-iPQV",
        "colab": {
          "base_uri": "https://localhost:8080/"
        },
        "outputId": "9e0635bb-3625-43cc-82ab-914d37aa3f39"
      },
      "outputs": [
        {
          "output_type": "execute_result",
          "data": {
            "text/plain": [
              "{'product': 'jokes',\n",
              " 'text': '\\n\\n1. \"Laugh Factory Co.\"\\n2. \"Pun-tastic Inc.\"\\n3. \"Giggles and Grins Co.\"\\n4. \"Jokester Enterprises\"\\n5. \"Haha Productions\"\\n6. \"Witty Enterprises\"\\n7. \"Comedy Co.\"\\n8. \"Humor HQ\"\\n9. \"Smile Inc.\"\\n10. \"The Joke Company\"'}"
            ]
          },
          "metadata": {},
          "execution_count": 19
        }
      ],
      "source": [
        "chain.invoke(\"jokes\")"
      ]
    },
    {
      "cell_type": "code",
      "execution_count": 20,
      "metadata": {
        "id": "ffWIdutwiPSH",
        "colab": {
          "base_uri": "https://localhost:8080/"
        },
        "outputId": "12416470-5bd2-4937-fcd8-4945200a4889"
      },
      "outputs": [
        {
          "output_type": "execute_result",
          "data": {
            "text/plain": [
              "{'product': 'f1 cars', 'text': '\\n\\n\"Velocity Racing Engineering\" '}"
            ]
          },
          "metadata": {},
          "execution_count": 20
        }
      ],
      "source": [
        "# chain to connect multiple components\n",
        "chain=LLMChain(\n",
        "    llm=client,\n",
        "    prompt=promptName\n",
        ")\n",
        "chain.invoke(\"f1 cars\")"
      ]
    },
    {
      "cell_type": "code",
      "source": [
        "chain.memory"
      ],
      "metadata": {
        "id": "DZwhjDkHyF0d"
      },
      "execution_count": 21,
      "outputs": []
    },
    {
      "cell_type": "code",
      "source": [
        "type(chain.memory)  # NoneTypemean not going to sustain anything here"
      ],
      "metadata": {
        "colab": {
          "base_uri": "https://localhost:8080/"
        },
        "id": "N4CYjPdVyF21",
        "outputId": "5dd22e57-2459-46ef-dde8-b40dd18b53e9"
      },
      "execution_count": 23,
      "outputs": [
        {
          "output_type": "execute_result",
          "data": {
            "text/plain": [
              "NoneType"
            ]
          },
          "metadata": {},
          "execution_count": 23
        }
      ]
    },
    {
      "cell_type": "markdown",
      "source": [
        "## but how to sustain memory\n",
        "\n",
        "# ConversationBufferMemory\n",
        " we can attatch memory to remember all previous convos\n",
        "we can do this by adding `memory` parameter"
      ],
      "metadata": {
        "id": "lKTYBPrCyYtj"
      }
    },
    {
      "cell_type": "code",
      "source": [
        "from langchain.memory import ConversationBufferMemory"
      ],
      "metadata": {
        "id": "rtEpGR3wyF7E"
      },
      "execution_count": 24,
      "outputs": []
    },
    {
      "cell_type": "code",
      "source": [
        "memory = ConversationBufferMemory()"
      ],
      "metadata": {
        "id": "c6hVDRp2yGBU"
      },
      "execution_count": 25,
      "outputs": []
    },
    {
      "cell_type": "code",
      "source": [
        "promptName = PromptTemplate.from_template(\"what is a good name for a company that makes {product}\")\n",
        "promptName"
      ],
      "metadata": {
        "colab": {
          "base_uri": "https://localhost:8080/"
        },
        "id": "weeONLDXyGDv",
        "outputId": "88c1f915-bbaa-47e2-f3be-fa5d9771e3b3"
      },
      "execution_count": 26,
      "outputs": [
        {
          "output_type": "execute_result",
          "data": {
            "text/plain": [
              "PromptTemplate(input_variables=['product'], template='what is a good name for a company that makes {product}')"
            ]
          },
          "metadata": {},
          "execution_count": 26
        }
      ]
    },
    {
      "cell_type": "code",
      "source": [
        "# chain to connect multiple components\n",
        "chain=LLMChain(\n",
        "    llm=client,\n",
        "    prompt=promptName,\n",
        "    memory=memory\n",
        "\n",
        ")\n",
        "chain.invoke(\"f1 cars\")"
      ],
      "metadata": {
        "colab": {
          "base_uri": "https://localhost:8080/"
        },
        "id": "ziYyFFcbyGGF",
        "outputId": "be9f3e65-1273-4309-e3d8-fe676ef43c6e"
      },
      "execution_count": 27,
      "outputs": [
        {
          "output_type": "execute_result",
          "data": {
            "text/plain": [
              "{'product': 'f1 cars',\n",
              " 'history': '',\n",
              " 'text': '\\n\\n\"Velocity Racing Engineering\" or \"Apex Performance Motorsports\" or \"Carbonworks Motorsports\"'}"
            ]
          },
          "metadata": {},
          "execution_count": 27
        }
      ]
    },
    {
      "cell_type": "code",
      "source": [
        "chain.invoke(\"camera\")"
      ],
      "metadata": {
        "colab": {
          "base_uri": "https://localhost:8080/"
        },
        "id": "bRoV-MiSyGIU",
        "outputId": "7d784743-c9a2-4773-ebe4-c31457fdf6bf"
      },
      "execution_count": 28,
      "outputs": [
        {
          "output_type": "execute_result",
          "data": {
            "text/plain": [
              "{'product': 'camera',\n",
              " 'history': 'Human: f1 cars\\nAI: \\n\\n\"Velocity Racing Engineering\" or \"Apex Performance Motorsports\" or \"Carbonworks Motorsports\"',\n",
              " 'text': '\\n\\n1. FocusTech\\n2. SnapVision\\n3. ShutterWorks\\n4. LensCrafters \\n5. CaptureCo \\n6. ProCam Solutions \\n7. ImageMakers \\n8. PixelPerfect \\n9. FrameForge \\n10. SnapShot Innovations'}"
            ]
          },
          "metadata": {},
          "execution_count": 28
        }
      ]
    },
    {
      "cell_type": "code",
      "source": [
        "chain.invoke(\"Drone\")"
      ],
      "metadata": {
        "colab": {
          "base_uri": "https://localhost:8080/"
        },
        "id": "_ma6YeG8yGK0",
        "outputId": "49dc57d9-903a-4c39-caad-9497a3c70946"
      },
      "execution_count": 29,
      "outputs": [
        {
          "output_type": "execute_result",
          "data": {
            "text/plain": [
              "{'product': 'Drone',\n",
              " 'history': 'Human: f1 cars\\nAI: \\n\\n\"Velocity Racing Engineering\" or \"Apex Performance Motorsports\" or \"Carbonworks Motorsports\"\\nHuman: camera\\nAI: \\n\\n1. FocusTech\\n2. SnapVision\\n3. ShutterWorks\\n4. LensCrafters \\n5. CaptureCo \\n6. ProCam Solutions \\n7. ImageMakers \\n8. PixelPerfect \\n9. FrameForge \\n10. SnapShot Innovations',\n",
              " 'text': '\\n\\n1. SkyTech Drones\\n2. AeroVision Industries\\n3. FlightForce Solutions\\n4. DroneWorks Co.\\n5. Airborne Innovations\\n6. Precision Flight Technologies\\n7. SkyHigh Aerials\\n8. Horizon Drones\\n9. Winged Tech Inc.\\n10. Propeller Producers'}"
            ]
          },
          "metadata": {},
          "execution_count": 29
        }
      ]
    },
    {
      "cell_type": "code",
      "source": [
        "chain.memory"
      ],
      "metadata": {
        "colab": {
          "base_uri": "https://localhost:8080/"
        },
        "id": "KDNviO0uyGM1",
        "outputId": "22b4f22b-30b9-4b21-87c4-4d752f490f9b"
      },
      "execution_count": 30,
      "outputs": [
        {
          "output_type": "execute_result",
          "data": {
            "text/plain": [
              "ConversationBufferMemory(chat_memory=ChatMessageHistory(messages=[HumanMessage(content='f1 cars'), AIMessage(content='\\n\\n\"Velocity Racing Engineering\" or \"Apex Performance Motorsports\" or \"Carbonworks Motorsports\"'), HumanMessage(content='camera'), AIMessage(content='\\n\\n1. FocusTech\\n2. SnapVision\\n3. ShutterWorks\\n4. LensCrafters \\n5. CaptureCo \\n6. ProCam Solutions \\n7. ImageMakers \\n8. PixelPerfect \\n9. FrameForge \\n10. SnapShot Innovations'), HumanMessage(content='Drone'), AIMessage(content='\\n\\n1. SkyTech Drones\\n2. AeroVision Industries\\n3. FlightForce Solutions\\n4. DroneWorks Co.\\n5. Airborne Innovations\\n6. Precision Flight Technologies\\n7. SkyHigh Aerials\\n8. Horizon Drones\\n9. Winged Tech Inc.\\n10. Propeller Producers')]))"
            ]
          },
          "metadata": {},
          "execution_count": 30
        }
      ]
    },
    {
      "cell_type": "code",
      "source": [
        "print(chain.memory.buffer)"
      ],
      "metadata": {
        "colab": {
          "base_uri": "https://localhost:8080/"
        },
        "id": "KdRzx-LhyGRT",
        "outputId": "5a72d616-d63e-43ec-9713-b9395509a5b0"
      },
      "execution_count": 36,
      "outputs": [
        {
          "output_type": "stream",
          "name": "stdout",
          "text": [
            "Human: f1 cars\n",
            "AI: \n",
            "\n",
            "\"Velocity Racing Engineering\" or \"Apex Performance Motorsports\" or \"Carbonworks Motorsports\"\n",
            "Human: camera\n",
            "AI: \n",
            "\n",
            "1. FocusTech\n",
            "2. SnapVision\n",
            "3. ShutterWorks\n",
            "4. LensCrafters \n",
            "5. CaptureCo \n",
            "6. ProCam Solutions \n",
            "7. ImageMakers \n",
            "8. PixelPerfect \n",
            "9. FrameForge \n",
            "10. SnapShot Innovations\n",
            "Human: Drone\n",
            "AI: \n",
            "\n",
            "1. SkyTech Drones\n",
            "2. AeroVision Industries\n",
            "3. FlightForce Solutions\n",
            "4. DroneWorks Co.\n",
            "5. Airborne Innovations\n",
            "6. Precision Flight Technologies\n",
            "7. SkyHigh Aerials\n",
            "8. Horizon Drones\n",
            "9. Winged Tech Inc.\n",
            "10. Propeller Producers\n"
          ]
        }
      ]
    },
    {
      "cell_type": "code",
      "source": [],
      "metadata": {
        "id": "g9pRds90yGTu"
      },
      "execution_count": null,
      "outputs": []
    },
    {
      "cell_type": "code",
      "source": [],
      "metadata": {
        "id": "zVNlA78oyGVz"
      },
      "execution_count": null,
      "outputs": []
    },
    {
      "cell_type": "code",
      "source": [],
      "metadata": {
        "id": "Uwr2WO0LyGX8"
      },
      "execution_count": null,
      "outputs": []
    },
    {
      "cell_type": "code",
      "source": [],
      "metadata": {
        "id": "ZkypWuymyGZ7"
      },
      "execution_count": null,
      "outputs": []
    },
    {
      "cell_type": "code",
      "source": [],
      "metadata": {
        "id": "5mL1i4bnyGcB"
      },
      "execution_count": null,
      "outputs": []
    },
    {
      "cell_type": "code",
      "source": [],
      "metadata": {
        "id": "SRrzUFwayGd1"
      },
      "execution_count": null,
      "outputs": []
    },
    {
      "cell_type": "code",
      "source": [],
      "metadata": {
        "id": "KnTgxwgvyGi7"
      },
      "execution_count": null,
      "outputs": []
    },
    {
      "cell_type": "code",
      "source": [],
      "metadata": {
        "id": "DEeQSZm6yGl7"
      },
      "execution_count": null,
      "outputs": []
    },
    {
      "cell_type": "code",
      "execution_count": null,
      "metadata": {
        "id": "MYxsMkn5iPUV"
      },
      "outputs": [],
      "source": []
    }
  ],
  "metadata": {
    "colab": {
      "provenance": [],
      "include_colab_link": true
    },
    "kernelspec": {
      "display_name": "Python 3",
      "name": "python3"
    },
    "language_info": {
      "name": "python"
    }
  },
  "nbformat": 4,
  "nbformat_minor": 0
}