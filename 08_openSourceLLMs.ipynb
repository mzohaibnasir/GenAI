{
  "nbformat": 4,
  "nbformat_minor": 0,
  "metadata": {
    "colab": {
      "provenance": [],
      "authorship_tag": "ABX9TyNa/XY9Y0Fu5voysjie4DcL",
      "include_colab_link": true
    },
    "kernelspec": {
      "name": "python3",
      "display_name": "Python 3"
    },
    "language_info": {
      "name": "python"
    }
  },
  "cells": [
    {
      "cell_type": "markdown",
      "metadata": {
        "id": "view-in-github",
        "colab_type": "text"
      },
      "source": [
        "<a href=\"https://colab.research.google.com/github/mzohaibnasir/GenAI/blob/main/08_openSourceLLMs.ipynb\" target=\"_parent\"><img src=\"https://colab.research.google.com/assets/colab-badge.svg\" alt=\"Open In Colab\"/></a>"
      ]
    },
    {
      "cell_type": "code",
      "execution_count": null,
      "metadata": {
        "id": "0IMDEs1txcC2"
      },
      "outputs": [],
      "source": []
    },
    {
      "cell_type": "markdown",
      "source": [
        "popular ones:\n",
        "\n",
        "*   Meta Llama 2\n",
        "*   Google PaLM 2(behind google bard)\n",
        "*   Falcon\n",
        "\n",
        "https://github.com/eugeneyan/open-llms\n",
        "\n"
      ],
      "metadata": {
        "id": "Z4Qb_2q3xn0i"
      }
    },
    {
      "cell_type": "code",
      "source": [],
      "metadata": {
        "id": "zVOCn5f2yQWL"
      },
      "execution_count": null,
      "outputs": []
    },
    {
      "cell_type": "markdown",
      "source": [
        "# Llama 2"
      ],
      "metadata": {
        "id": "y03CjCfkyTB8"
      }
    },
    {
      "cell_type": "code",
      "source": [
        ""
      ],
      "metadata": {
        "id": "MwGf7SjJyUjy"
      },
      "execution_count": null,
      "outputs": []
    }
  ]
}